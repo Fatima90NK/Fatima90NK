{
  "nbformat": 4,
  "nbformat_minor": 0,
  "metadata": {
    "colab": {
      "provenance": [],
      "authorship_tag": "ABX9TyN7ugdROQrrAcyNpvIscQqF",
      "include_colab_link": true
    },
    "kernelspec": {
      "name": "python3",
      "display_name": "Python 3"
    },
    "language_info": {
      "name": "python"
    },
    "widgets": {
      "application/vnd.jupyter.widget-state+json": {
        "f5724cd994074e8f8966f6654be0e310": {
          "model_module": "@jupyter-widgets/controls",
          "model_name": "ButtonModel",
          "model_module_version": "2.0.0",
          "state": {
            "_dom_classes": [],
            "_model_module": "@jupyter-widgets/controls",
            "_model_module_version": "2.0.0",
            "_model_name": "ButtonModel",
            "_view_count": null,
            "_view_module": "@jupyter-widgets/controls",
            "_view_module_version": "2.0.0",
            "_view_name": "ButtonView",
            "button_style": "danger",
            "description": "Request a quote",
            "disabled": false,
            "icon": "",
            "layout": "IPY_MODEL_03274d2e3dd9467697c9226962e724da",
            "style": "IPY_MODEL_1a9eba1bb55845588939fdae7e1d8a70",
            "tabbable": null,
            "tooltip": null
          }
        },
        "03274d2e3dd9467697c9226962e724da": {
          "model_module": "@jupyter-widgets/base",
          "model_name": "LayoutModel",
          "model_module_version": "2.0.0",
          "state": {
            "_model_module": "@jupyter-widgets/base",
            "_model_module_version": "2.0.0",
            "_model_name": "LayoutModel",
            "_view_count": null,
            "_view_module": "@jupyter-widgets/base",
            "_view_module_version": "2.0.0",
            "_view_name": "LayoutView",
            "align_content": null,
            "align_items": null,
            "align_self": null,
            "border_bottom": null,
            "border_left": null,
            "border_right": null,
            "border_top": null,
            "bottom": null,
            "display": null,
            "flex": null,
            "flex_flow": null,
            "grid_area": null,
            "grid_auto_columns": null,
            "grid_auto_flow": null,
            "grid_auto_rows": null,
            "grid_column": null,
            "grid_gap": null,
            "grid_row": null,
            "grid_template_areas": null,
            "grid_template_columns": null,
            "grid_template_rows": null,
            "height": null,
            "justify_content": null,
            "justify_items": null,
            "left": null,
            "margin": null,
            "max_height": null,
            "max_width": null,
            "min_height": null,
            "min_width": null,
            "object_fit": null,
            "object_position": null,
            "order": null,
            "overflow": null,
            "padding": null,
            "right": null,
            "top": null,
            "visibility": null,
            "width": null
          }
        },
        "1a9eba1bb55845588939fdae7e1d8a70": {
          "model_module": "@jupyter-widgets/controls",
          "model_name": "ButtonStyleModel",
          "model_module_version": "2.0.0",
          "state": {
            "_model_module": "@jupyter-widgets/controls",
            "_model_module_version": "2.0.0",
            "_model_name": "ButtonStyleModel",
            "_view_count": null,
            "_view_module": "@jupyter-widgets/base",
            "_view_module_version": "2.0.0",
            "_view_name": "StyleView",
            "button_color": null,
            "font_family": null,
            "font_size": null,
            "font_style": null,
            "font_variant": null,
            "font_weight": null,
            "text_color": null,
            "text_decoration": null
          }
        },
        "c83b4dec448f488e90b3b57996253ab0": {
          "model_module": "@jupyter-widgets/controls",
          "model_name": "ButtonModel",
          "model_module_version": "2.0.0",
          "state": {
            "_dom_classes": [],
            "_model_module": "@jupyter-widgets/controls",
            "_model_module_version": "2.0.0",
            "_model_name": "ButtonModel",
            "_view_count": null,
            "_view_module": "@jupyter-widgets/controls",
            "_view_module_version": "2.0.0",
            "_view_name": "ButtonView",
            "button_style": "danger",
            "description": "Request a quote",
            "disabled": false,
            "icon": "",
            "layout": "IPY_MODEL_52fd20c1ecaa4ae5831081bc9bee9ba7",
            "style": "IPY_MODEL_42e3cb440b0940709cab91b8d40e3fdf",
            "tabbable": null,
            "tooltip": null
          }
        },
        "52fd20c1ecaa4ae5831081bc9bee9ba7": {
          "model_module": "@jupyter-widgets/base",
          "model_name": "LayoutModel",
          "model_module_version": "2.0.0",
          "state": {
            "_model_module": "@jupyter-widgets/base",
            "_model_module_version": "2.0.0",
            "_model_name": "LayoutModel",
            "_view_count": null,
            "_view_module": "@jupyter-widgets/base",
            "_view_module_version": "2.0.0",
            "_view_name": "LayoutView",
            "align_content": null,
            "align_items": null,
            "align_self": null,
            "border_bottom": null,
            "border_left": null,
            "border_right": null,
            "border_top": null,
            "bottom": null,
            "display": null,
            "flex": null,
            "flex_flow": null,
            "grid_area": null,
            "grid_auto_columns": null,
            "grid_auto_flow": null,
            "grid_auto_rows": null,
            "grid_column": null,
            "grid_gap": null,
            "grid_row": null,
            "grid_template_areas": null,
            "grid_template_columns": null,
            "grid_template_rows": null,
            "height": null,
            "justify_content": null,
            "justify_items": null,
            "left": null,
            "margin": null,
            "max_height": null,
            "max_width": null,
            "min_height": null,
            "min_width": null,
            "object_fit": null,
            "object_position": null,
            "order": null,
            "overflow": null,
            "padding": null,
            "right": null,
            "top": null,
            "visibility": null,
            "width": null
          }
        },
        "42e3cb440b0940709cab91b8d40e3fdf": {
          "model_module": "@jupyter-widgets/controls",
          "model_name": "ButtonStyleModel",
          "model_module_version": "2.0.0",
          "state": {
            "_model_module": "@jupyter-widgets/controls",
            "_model_module_version": "2.0.0",
            "_model_name": "ButtonStyleModel",
            "_view_count": null,
            "_view_module": "@jupyter-widgets/base",
            "_view_module_version": "2.0.0",
            "_view_name": "StyleView",
            "button_color": null,
            "font_family": null,
            "font_size": null,
            "font_style": null,
            "font_variant": null,
            "font_weight": null,
            "text_color": null,
            "text_decoration": null
          }
        }
      }
    }
  },
  "cells": [
    {
      "cell_type": "markdown",
      "metadata": {
        "id": "view-in-github",
        "colab_type": "text"
      },
      "source": [
        "<a href=\"https://colab.research.google.com/github/Fatima90NK/Fatima90NK/blob/main/MyMLProject.ipynb\" target=\"_parent\"><img src=\"https://colab.research.google.com/assets/colab-badge.svg\" alt=\"Open In Colab\"/></a>"
      ]
    },
    {
      "cell_type": "code",
      "execution_count": 3,
      "metadata": {
        "id": "mNmTvIhiaS2Z"
      },
      "outputs": [],
      "source": [
        "%pip install -Uq upgini catboost"
      ]
    },
    {
      "cell_type": "code",
      "source": [
        "from os.path import exists\n",
        "import pandas as pd\n",
        "\n",
        "df_path = \"train.csv.zip\" if exists(\"train.csv.zip\") else \"https://github.com/upgini/upgini/raw/main/notebooks/train.csv.zip\"\n",
        "df = pd.read_csv(df_path)\n",
        "df = df.sample(n=19_000, random_state=0)\n",
        "df[\"store\"] = df[\"store\"].astype(str)\n",
        "df[\"item\"] = df[\"item\"].astype(str)\n",
        "\n",
        "df[\"date\"] = pd.to_datetime(df[\"date\"])\n",
        "\n",
        "df.sort_values(\"date\", inplace=True)\n",
        "df.reset_index(inplace=True, drop=True)\n",
        "df.head()"
      ],
      "metadata": {
        "colab": {
          "base_uri": "https://localhost:8080/",
          "height": 206
        },
        "id": "WuvqICjicNkW",
        "outputId": "53553b52-cb58-4714-b7ed-ddcf60854ba8"
      },
      "execution_count": 5,
      "outputs": [
        {
          "output_type": "execute_result",
          "data": {
            "text/plain": [
              "        date store item  sales\n",
              "0 2013-01-01     7    5      5\n",
              "1 2013-01-01     4    9     19\n",
              "2 2013-01-01     1   33     37\n",
              "3 2013-01-01     3   41     14\n",
              "4 2013-01-01     5   24     26"
            ],
            "text/html": [
              "\n",
              "  <div id=\"df-5e73e49c-134f-42ca-a655-2087d486f530\" class=\"colab-df-container\">\n",
              "    <div>\n",
              "<style scoped>\n",
              "    .dataframe tbody tr th:only-of-type {\n",
              "        vertical-align: middle;\n",
              "    }\n",
              "\n",
              "    .dataframe tbody tr th {\n",
              "        vertical-align: top;\n",
              "    }\n",
              "\n",
              "    .dataframe thead th {\n",
              "        text-align: right;\n",
              "    }\n",
              "</style>\n",
              "<table border=\"1\" class=\"dataframe\">\n",
              "  <thead>\n",
              "    <tr style=\"text-align: right;\">\n",
              "      <th></th>\n",
              "      <th>date</th>\n",
              "      <th>store</th>\n",
              "      <th>item</th>\n",
              "      <th>sales</th>\n",
              "    </tr>\n",
              "  </thead>\n",
              "  <tbody>\n",
              "    <tr>\n",
              "      <th>0</th>\n",
              "      <td>2013-01-01</td>\n",
              "      <td>7</td>\n",
              "      <td>5</td>\n",
              "      <td>5</td>\n",
              "    </tr>\n",
              "    <tr>\n",
              "      <th>1</th>\n",
              "      <td>2013-01-01</td>\n",
              "      <td>4</td>\n",
              "      <td>9</td>\n",
              "      <td>19</td>\n",
              "    </tr>\n",
              "    <tr>\n",
              "      <th>2</th>\n",
              "      <td>2013-01-01</td>\n",
              "      <td>1</td>\n",
              "      <td>33</td>\n",
              "      <td>37</td>\n",
              "    </tr>\n",
              "    <tr>\n",
              "      <th>3</th>\n",
              "      <td>2013-01-01</td>\n",
              "      <td>3</td>\n",
              "      <td>41</td>\n",
              "      <td>14</td>\n",
              "    </tr>\n",
              "    <tr>\n",
              "      <th>4</th>\n",
              "      <td>2013-01-01</td>\n",
              "      <td>5</td>\n",
              "      <td>24</td>\n",
              "      <td>26</td>\n",
              "    </tr>\n",
              "  </tbody>\n",
              "</table>\n",
              "</div>\n",
              "    <div class=\"colab-df-buttons\">\n",
              "\n",
              "  <div class=\"colab-df-container\">\n",
              "    <button class=\"colab-df-convert\" onclick=\"convertToInteractive('df-5e73e49c-134f-42ca-a655-2087d486f530')\"\n",
              "            title=\"Convert this dataframe to an interactive table.\"\n",
              "            style=\"display:none;\">\n",
              "\n",
              "  <svg xmlns=\"http://www.w3.org/2000/svg\" height=\"24px\" viewBox=\"0 -960 960 960\">\n",
              "    <path d=\"M120-120v-720h720v720H120Zm60-500h600v-160H180v160Zm220 220h160v-160H400v160Zm0 220h160v-160H400v160ZM180-400h160v-160H180v160Zm440 0h160v-160H620v160ZM180-180h160v-160H180v160Zm440 0h160v-160H620v160Z\"/>\n",
              "  </svg>\n",
              "    </button>\n",
              "\n",
              "  <style>\n",
              "    .colab-df-container {\n",
              "      display:flex;\n",
              "      gap: 12px;\n",
              "    }\n",
              "\n",
              "    .colab-df-convert {\n",
              "      background-color: #E8F0FE;\n",
              "      border: none;\n",
              "      border-radius: 50%;\n",
              "      cursor: pointer;\n",
              "      display: none;\n",
              "      fill: #1967D2;\n",
              "      height: 32px;\n",
              "      padding: 0 0 0 0;\n",
              "      width: 32px;\n",
              "    }\n",
              "\n",
              "    .colab-df-convert:hover {\n",
              "      background-color: #E2EBFA;\n",
              "      box-shadow: 0px 1px 2px rgba(60, 64, 67, 0.3), 0px 1px 3px 1px rgba(60, 64, 67, 0.15);\n",
              "      fill: #174EA6;\n",
              "    }\n",
              "\n",
              "    .colab-df-buttons div {\n",
              "      margin-bottom: 4px;\n",
              "    }\n",
              "\n",
              "    [theme=dark] .colab-df-convert {\n",
              "      background-color: #3B4455;\n",
              "      fill: #D2E3FC;\n",
              "    }\n",
              "\n",
              "    [theme=dark] .colab-df-convert:hover {\n",
              "      background-color: #434B5C;\n",
              "      box-shadow: 0px 1px 3px 1px rgba(0, 0, 0, 0.15);\n",
              "      filter: drop-shadow(0px 1px 2px rgba(0, 0, 0, 0.3));\n",
              "      fill: #FFFFFF;\n",
              "    }\n",
              "  </style>\n",
              "\n",
              "    <script>\n",
              "      const buttonEl =\n",
              "        document.querySelector('#df-5e73e49c-134f-42ca-a655-2087d486f530 button.colab-df-convert');\n",
              "      buttonEl.style.display =\n",
              "        google.colab.kernel.accessAllowed ? 'block' : 'none';\n",
              "\n",
              "      async function convertToInteractive(key) {\n",
              "        const element = document.querySelector('#df-5e73e49c-134f-42ca-a655-2087d486f530');\n",
              "        const dataTable =\n",
              "          await google.colab.kernel.invokeFunction('convertToInteractive',\n",
              "                                                    [key], {});\n",
              "        if (!dataTable) return;\n",
              "\n",
              "        const docLinkHtml = 'Like what you see? Visit the ' +\n",
              "          '<a target=\"_blank\" href=https://colab.research.google.com/notebooks/data_table.ipynb>data table notebook</a>'\n",
              "          + ' to learn more about interactive tables.';\n",
              "        element.innerHTML = '';\n",
              "        dataTable['output_type'] = 'display_data';\n",
              "        await google.colab.output.renderOutput(dataTable, element);\n",
              "        const docLink = document.createElement('div');\n",
              "        docLink.innerHTML = docLinkHtml;\n",
              "        element.appendChild(docLink);\n",
              "      }\n",
              "    </script>\n",
              "  </div>\n",
              "\n",
              "\n",
              "    <div id=\"df-b5463df2-8cfa-4465-8b8e-160523fdd58f\">\n",
              "      <button class=\"colab-df-quickchart\" onclick=\"quickchart('df-b5463df2-8cfa-4465-8b8e-160523fdd58f')\"\n",
              "                title=\"Suggest charts\"\n",
              "                style=\"display:none;\">\n",
              "\n",
              "<svg xmlns=\"http://www.w3.org/2000/svg\" height=\"24px\"viewBox=\"0 0 24 24\"\n",
              "     width=\"24px\">\n",
              "    <g>\n",
              "        <path d=\"M19 3H5c-1.1 0-2 .9-2 2v14c0 1.1.9 2 2 2h14c1.1 0 2-.9 2-2V5c0-1.1-.9-2-2-2zM9 17H7v-7h2v7zm4 0h-2V7h2v10zm4 0h-2v-4h2v4z\"/>\n",
              "    </g>\n",
              "</svg>\n",
              "      </button>\n",
              "\n",
              "<style>\n",
              "  .colab-df-quickchart {\n",
              "      --bg-color: #E8F0FE;\n",
              "      --fill-color: #1967D2;\n",
              "      --hover-bg-color: #E2EBFA;\n",
              "      --hover-fill-color: #174EA6;\n",
              "      --disabled-fill-color: #AAA;\n",
              "      --disabled-bg-color: #DDD;\n",
              "  }\n",
              "\n",
              "  [theme=dark] .colab-df-quickchart {\n",
              "      --bg-color: #3B4455;\n",
              "      --fill-color: #D2E3FC;\n",
              "      --hover-bg-color: #434B5C;\n",
              "      --hover-fill-color: #FFFFFF;\n",
              "      --disabled-bg-color: #3B4455;\n",
              "      --disabled-fill-color: #666;\n",
              "  }\n",
              "\n",
              "  .colab-df-quickchart {\n",
              "    background-color: var(--bg-color);\n",
              "    border: none;\n",
              "    border-radius: 50%;\n",
              "    cursor: pointer;\n",
              "    display: none;\n",
              "    fill: var(--fill-color);\n",
              "    height: 32px;\n",
              "    padding: 0;\n",
              "    width: 32px;\n",
              "  }\n",
              "\n",
              "  .colab-df-quickchart:hover {\n",
              "    background-color: var(--hover-bg-color);\n",
              "    box-shadow: 0 1px 2px rgba(60, 64, 67, 0.3), 0 1px 3px 1px rgba(60, 64, 67, 0.15);\n",
              "    fill: var(--button-hover-fill-color);\n",
              "  }\n",
              "\n",
              "  .colab-df-quickchart-complete:disabled,\n",
              "  .colab-df-quickchart-complete:disabled:hover {\n",
              "    background-color: var(--disabled-bg-color);\n",
              "    fill: var(--disabled-fill-color);\n",
              "    box-shadow: none;\n",
              "  }\n",
              "\n",
              "  .colab-df-spinner {\n",
              "    border: 2px solid var(--fill-color);\n",
              "    border-color: transparent;\n",
              "    border-bottom-color: var(--fill-color);\n",
              "    animation:\n",
              "      spin 1s steps(1) infinite;\n",
              "  }\n",
              "\n",
              "  @keyframes spin {\n",
              "    0% {\n",
              "      border-color: transparent;\n",
              "      border-bottom-color: var(--fill-color);\n",
              "      border-left-color: var(--fill-color);\n",
              "    }\n",
              "    20% {\n",
              "      border-color: transparent;\n",
              "      border-left-color: var(--fill-color);\n",
              "      border-top-color: var(--fill-color);\n",
              "    }\n",
              "    30% {\n",
              "      border-color: transparent;\n",
              "      border-left-color: var(--fill-color);\n",
              "      border-top-color: var(--fill-color);\n",
              "      border-right-color: var(--fill-color);\n",
              "    }\n",
              "    40% {\n",
              "      border-color: transparent;\n",
              "      border-right-color: var(--fill-color);\n",
              "      border-top-color: var(--fill-color);\n",
              "    }\n",
              "    60% {\n",
              "      border-color: transparent;\n",
              "      border-right-color: var(--fill-color);\n",
              "    }\n",
              "    80% {\n",
              "      border-color: transparent;\n",
              "      border-right-color: var(--fill-color);\n",
              "      border-bottom-color: var(--fill-color);\n",
              "    }\n",
              "    90% {\n",
              "      border-color: transparent;\n",
              "      border-bottom-color: var(--fill-color);\n",
              "    }\n",
              "  }\n",
              "</style>\n",
              "\n",
              "      <script>\n",
              "        async function quickchart(key) {\n",
              "          const quickchartButtonEl =\n",
              "            document.querySelector('#' + key + ' button');\n",
              "          quickchartButtonEl.disabled = true;  // To prevent multiple clicks.\n",
              "          quickchartButtonEl.classList.add('colab-df-spinner');\n",
              "          try {\n",
              "            const charts = await google.colab.kernel.invokeFunction(\n",
              "                'suggestCharts', [key], {});\n",
              "          } catch (error) {\n",
              "            console.error('Error during call to suggestCharts:', error);\n",
              "          }\n",
              "          quickchartButtonEl.classList.remove('colab-df-spinner');\n",
              "          quickchartButtonEl.classList.add('colab-df-quickchart-complete');\n",
              "        }\n",
              "        (() => {\n",
              "          let quickchartButtonEl =\n",
              "            document.querySelector('#df-b5463df2-8cfa-4465-8b8e-160523fdd58f button');\n",
              "          quickchartButtonEl.style.display =\n",
              "            google.colab.kernel.accessAllowed ? 'block' : 'none';\n",
              "        })();\n",
              "      </script>\n",
              "    </div>\n",
              "\n",
              "    </div>\n",
              "  </div>\n"
            ],
            "application/vnd.google.colaboratory.intrinsic+json": {
              "type": "dataframe",
              "variable_name": "df",
              "summary": "{\n  \"name\": \"df\",\n  \"rows\": 19000,\n  \"fields\": [\n    {\n      \"column\": \"date\",\n      \"properties\": {\n        \"dtype\": \"date\",\n        \"min\": \"2013-01-01 00:00:00\",\n        \"max\": \"2017-12-31 00:00:00\",\n        \"num_unique_values\": 1826,\n        \"samples\": [\n          \"2015-09-26 00:00:00\",\n          \"2017-02-27 00:00:00\",\n          \"2013-10-26 00:00:00\"\n        ],\n        \"semantic_type\": \"\",\n        \"description\": \"\"\n      }\n    },\n    {\n      \"column\": \"store\",\n      \"properties\": {\n        \"dtype\": \"category\",\n        \"num_unique_values\": 10,\n        \"samples\": [\n          \"9\",\n          \"4\",\n          \"2\"\n        ],\n        \"semantic_type\": \"\",\n        \"description\": \"\"\n      }\n    },\n    {\n      \"column\": \"item\",\n      \"properties\": {\n        \"dtype\": \"category\",\n        \"num_unique_values\": 50,\n        \"samples\": [\n          \"40\",\n          \"43\",\n          \"20\"\n        ],\n        \"semantic_type\": \"\",\n        \"description\": \"\"\n      }\n    },\n    {\n      \"column\": \"sales\",\n      \"properties\": {\n        \"dtype\": \"number\",\n        \"std\": 28,\n        \"min\": 1,\n        \"max\": 205,\n        \"num_unique_values\": 173,\n        \"samples\": [\n          196,\n          63,\n          94\n        ],\n        \"semantic_type\": \"\",\n        \"description\": \"\"\n      }\n    }\n  ]\n}"
            }
          },
          "metadata": {},
          "execution_count": 5
        }
      ]
    },
    {
      "cell_type": "code",
      "source": [
        "train = df[df[\"date\"] < \"2017-01-01\"]\n",
        "test = df[df[\"date\"] >= \"2017-01-01\"]"
      ],
      "metadata": {
        "id": "JuvlqAGqgpWL"
      },
      "execution_count": 6,
      "outputs": []
    },
    {
      "cell_type": "code",
      "source": [
        "train_features = train.drop(columns=[\"sales\"])\n",
        "train_target = train[\"sales\"]\n",
        "test_features = test.drop(columns=[\"sales\"])\n",
        "test_target = test[\"sales\"]"
      ],
      "metadata": {
        "id": "2Kaw1SZNhMBE"
      },
      "execution_count": 8,
      "outputs": []
    },
    {
      "cell_type": "code",
      "source": [
        "from upgini import FeaturesEnricher, SearchKey\n",
        "from upgini.metadata import CVType\n",
        "\n",
        "enricher = FeaturesEnricher(\n",
        "    search_keys= {\n",
        "        \"date\": SearchKey.DATE,\n",
        "    },\n",
        "    cv = CVType.time_series\n",
        "    )\n",
        "enricher.fit(train_features,\n",
        "             train_target,\n",
        "             eval_set=[(test_features, test_target)])"
      ],
      "metadata": {
        "colab": {
          "base_uri": "https://localhost:8080/",
          "height": 1000
        },
        "id": "TAWRWLIlhmOG",
        "outputId": "f84152fc-17b7-4581-e1c2-32becccdfd55"
      },
      "execution_count": 9,
      "outputs": [
        {
          "output_type": "display_data",
          "data": {
            "text/plain": [
              "[============================================================] 100% Finished"
            ],
            "text/html": [
              "<progress style='width:60ex' max='100' value='100'></progress>  100% Finished</br>"
            ]
          },
          "metadata": {}
        },
        {
          "output_type": "display_data",
          "data": {
            "text/plain": [
              "<IPython.core.display.Javascript object>"
            ],
            "application/javascript": [
              "\n",
              "                    async function getVisitorId() {\n",
              "                        return import('https://upgini.github.io/upgini/js/a.js')\n",
              "                            .then(FingerprintJS => FingerprintJS.load())\n",
              "                            .then(fp => fp.get())\n",
              "                            .then(result => result.visitorId);\n",
              "                    }\n",
              "                    "
            ]
          },
          "metadata": {}
        },
        {
          "output_type": "display_data",
          "data": {
            "text/plain": [
              "<IPython.core.display.Javascript object>"
            ],
            "application/javascript": [
              "\n",
              "                    async function getVisitorId() {\n",
              "                        return import('https://upgini.github.io/upgini/js/a.js')\n",
              "                            .then(FingerprintJS => FingerprintJS.load())\n",
              "                            .then(fp => fp.get())\n",
              "                            .then(result => result.visitorId);\n",
              "                    }\n",
              "                    "
            ]
          },
          "metadata": {}
        },
        {
          "output_type": "display_data",
          "data": {
            "text/plain": [
              "<IPython.core.display.Javascript object>"
            ],
            "application/javascript": [
              "\n",
              "                    async function getVisitorId() {\n",
              "                        return import('https://upgini.github.io/upgini/js/a.js')\n",
              "                            .then(FingerprintJS => FingerprintJS.load())\n",
              "                            .then(fp => fp.get())\n",
              "                            .then(result => result.visitorId);\n",
              "                    }\n",
              "                    "
            ]
          },
          "metadata": {}
        },
        {
          "output_type": "display_data",
          "data": {
            "text/plain": [
              "<IPython.core.display.Javascript object>"
            ],
            "application/javascript": [
              "\n",
              "                    async function getVisitorId() {\n",
              "                        return import('https://upgini.github.io/upgini/js/a.js')\n",
              "                            .then(FingerprintJS => FingerprintJS.load())\n",
              "                            .then(fp => fp.get())\n",
              "                            .then(result => result.visitorId);\n",
              "                    }\n",
              "                    "
            ]
          },
          "metadata": {}
        },
        {
          "output_type": "display_data",
          "data": {
            "text/plain": [
              "<IPython.core.display.Javascript object>"
            ],
            "application/javascript": [
              "\n",
              "                    async function getVisitorId() {\n",
              "                        return import('https://upgini.github.io/upgini/js/a.js')\n",
              "                            .then(FingerprintJS => FingerprintJS.load())\n",
              "                            .then(fp => fp.get())\n",
              "                            .then(result => result.visitorId);\n",
              "                    }\n",
              "                    "
            ]
          },
          "metadata": {}
        },
        {
          "output_type": "display_data",
          "data": {
            "text/plain": [
              "<IPython.core.display.Javascript object>"
            ],
            "application/javascript": [
              "\n",
              "                    async function getVisitorId() {\n",
              "                        return import('https://upgini.github.io/upgini/js/a.js')\n",
              "                            .then(FingerprintJS => FingerprintJS.load())\n",
              "                            .then(fp => fp.get())\n",
              "                            .then(result => result.visitorId);\n",
              "                    }\n",
              "                    "
            ]
          },
          "metadata": {}
        },
        {
          "output_type": "display_data",
          "data": {
            "text/plain": [
              "<IPython.core.display.Javascript object>"
            ],
            "application/javascript": [
              "\n",
              "                    async function getVisitorId() {\n",
              "                        return import('https://upgini.github.io/upgini/js/a.js')\n",
              "                            .then(FingerprintJS => FingerprintJS.load())\n",
              "                            .then(fp => fp.get())\n",
              "                            .then(result => result.visitorId);\n",
              "                    }\n",
              "                    "
            ]
          },
          "metadata": {}
        },
        {
          "output_type": "stream",
          "name": "stdout",
          "text": [
            "WARNING #1: Search started with DATE search key only\n",
            "Try to add other keys like the COUNTRY, POSTAL_CODE, PHONE NUMBER, EMAIL/HEM, IP to your training dataset\n",
            "for search through all the available data sources.\n",
            "See docs https://github.com/upgini/upgini#-total-239-countries-and-up-to-41-years-of-history\n",
            "\n"
          ]
        },
        {
          "output_type": "display_data",
          "data": {
            "text/plain": [
              "<IPython.core.display.Javascript object>"
            ],
            "application/javascript": [
              "\n",
              "                    async function getVisitorId() {\n",
              "                        return import('https://upgini.github.io/upgini/js/a.js')\n",
              "                            .then(FingerprintJS => FingerprintJS.load())\n",
              "                            .then(fp => fp.get())\n",
              "                            .then(result => result.visitorId);\n",
              "                    }\n",
              "                    "
            ]
          },
          "metadata": {}
        },
        {
          "output_type": "display_data",
          "data": {
            "text/plain": [
              "<IPython.core.display.Javascript object>"
            ],
            "application/javascript": [
              "\n",
              "                    async function getVisitorId() {\n",
              "                        return import('https://upgini.github.io/upgini/js/a.js')\n",
              "                            .then(FingerprintJS => FingerprintJS.load())\n",
              "                            .then(fp => fp.get())\n",
              "                            .then(result => result.visitorId);\n",
              "                    }\n",
              "                    "
            ]
          },
          "metadata": {}
        },
        {
          "output_type": "stream",
          "name": "stdout",
          "text": [
            "\n",
            "Detected task type: ModelTaskType.REGRESSION. Reason: date search key is present, treating as regression\n",
            "You can set task type manually with argument `model_task_type` of FeaturesEnricher constructor if task type detected incorrectly\n"
          ]
        },
        {
          "output_type": "display_data",
          "data": {
            "text/plain": [
              "<IPython.core.display.Javascript object>"
            ],
            "application/javascript": [
              "\n",
              "                    async function getVisitorId() {\n",
              "                        return import('https://upgini.github.io/upgini/js/a.js')\n",
              "                            .then(FingerprintJS => FingerprintJS.load())\n",
              "                            .then(fp => fp.get())\n",
              "                            .then(result => result.visitorId);\n",
              "                    }\n",
              "                    "
            ]
          },
          "metadata": {}
        },
        {
          "output_type": "stream",
          "name": "stdout",
          "text": [
            "\n"
          ]
        },
        {
          "output_type": "display_data",
          "data": {
            "text/plain": [
              "<IPython.core.display.Javascript object>"
            ],
            "application/javascript": [
              "\n",
              "                    async function getVisitorId() {\n",
              "                        return import('https://upgini.github.io/upgini/js/a.js')\n",
              "                            .then(FingerprintJS => FingerprintJS.load())\n",
              "                            .then(fp => fp.get())\n",
              "                            .then(result => result.visitorId);\n",
              "                    }\n",
              "                    "
            ]
          },
          "metadata": {}
        },
        {
          "output_type": "display_data",
          "data": {
            "text/plain": [
              "<IPython.core.display.Javascript object>"
            ],
            "application/javascript": [
              "\n",
              "                    async function getVisitorId() {\n",
              "                        return import('https://upgini.github.io/upgini/js/a.js')\n",
              "                            .then(FingerprintJS => FingerprintJS.load())\n",
              "                            .then(fp => fp.get())\n",
              "                            .then(result => result.visitorId);\n",
              "                    }\n",
              "                    "
            ]
          },
          "metadata": {}
        },
        {
          "output_type": "stream",
          "name": "stdout",
          "text": [
            "WARNING #2: Your training sample is unstable in number of rows per date. It is recommended to redesign the training sample\n",
            "\n"
          ]
        },
        {
          "output_type": "display_data",
          "data": {
            "text/plain": [
              "<IPython.core.display.Javascript object>"
            ],
            "application/javascript": [
              "\n",
              "                    async function getVisitorId() {\n",
              "                        return import('https://upgini.github.io/upgini/js/a.js')\n",
              "                            .then(FingerprintJS => FingerprintJS.load())\n",
              "                            .then(fp => fp.get())\n",
              "                            .then(result => result.visitorId);\n",
              "                    }\n",
              "                    "
            ]
          },
          "metadata": {}
        },
        {
          "output_type": "display_data",
          "data": {
            "text/plain": [
              "<IPython.core.display.Javascript object>"
            ],
            "application/javascript": [
              "\n",
              "                    async function getVisitorId() {\n",
              "                        return import('https://upgini.github.io/upgini/js/a.js')\n",
              "                            .then(FingerprintJS => FingerprintJS.load())\n",
              "                            .then(fp => fp.get())\n",
              "                            .then(result => result.visitorId);\n",
              "                    }\n",
              "                    "
            ]
          },
          "metadata": {}
        },
        {
          "output_type": "display_data",
          "data": {
            "text/plain": [
              "<IPython.core.display.Javascript object>"
            ],
            "application/javascript": [
              "\n",
              "                    async function getVisitorId() {\n",
              "                        return import('https://upgini.github.io/upgini/js/a.js')\n",
              "                            .then(FingerprintJS => FingerprintJS.load())\n",
              "                            .then(fp => fp.get())\n",
              "                            .then(result => result.visitorId);\n",
              "                    }\n",
              "                    "
            ]
          },
          "metadata": {}
        },
        {
          "output_type": "display_data",
          "data": {
            "text/plain": [
              "<IPython.core.display.Javascript object>"
            ],
            "application/javascript": [
              "\n",
              "                    async function getVisitorId() {\n",
              "                        return import('https://upgini.github.io/upgini/js/a.js')\n",
              "                            .then(FingerprintJS => FingerprintJS.load())\n",
              "                            .then(fp => fp.get())\n",
              "                            .then(result => result.visitorId);\n",
              "                    }\n",
              "                    "
            ]
          },
          "metadata": {}
        },
        {
          "output_type": "display_data",
          "data": {
            "text/plain": [
              "<IPython.core.display.HTML object>"
            ],
            "text/html": [
              "<table><tr><th style='font-weight:bold'>Column name</th><th style='font-weight:bold'>Status</th><th style='font-weight:bold'>Errors</th></tr><tr><td>target</td><td style='background-color:#DAF7A6;color:black'>All valid</td><td>-</td></tr><tr><td>date</td><td style='background-color:#DAF7A6;color:black'>All valid</td><td>-</td></tr></table>"
            ]
          },
          "metadata": {}
        },
        {
          "output_type": "stream",
          "name": "stdout",
          "text": [
            "\n"
          ]
        },
        {
          "output_type": "display_data",
          "data": {
            "text/plain": [
              "<IPython.core.display.Javascript object>"
            ],
            "application/javascript": [
              "\n",
              "                    async function getVisitorId() {\n",
              "                        return import('https://upgini.github.io/upgini/js/a.js')\n",
              "                            .then(FingerprintJS => FingerprintJS.load())\n",
              "                            .then(fp => fp.get())\n",
              "                            .then(result => result.visitorId);\n",
              "                    }\n",
              "                    "
            ]
          },
          "metadata": {}
        },
        {
          "output_type": "display_data",
          "data": {
            "text/plain": [
              "<IPython.core.display.Javascript object>"
            ],
            "application/javascript": [
              "\n",
              "                    async function getVisitorId() {\n",
              "                        return import('https://upgini.github.io/upgini/js/a.js')\n",
              "                            .then(FingerprintJS => FingerprintJS.load())\n",
              "                            .then(fp => fp.get())\n",
              "                            .then(result => result.visitorId);\n",
              "                    }\n",
              "                    "
            ]
          },
          "metadata": {}
        },
        {
          "output_type": "display_data",
          "data": {
            "text/plain": [
              "<IPython.core.display.Javascript object>"
            ],
            "application/javascript": [
              "\n",
              "                    async function getVisitorId() {\n",
              "                        return import('https://upgini.github.io/upgini/js/a.js')\n",
              "                            .then(FingerprintJS => FingerprintJS.load())\n",
              "                            .then(fp => fp.get())\n",
              "                            .then(result => result.visitorId);\n",
              "                    }\n",
              "                    "
            ]
          },
          "metadata": {}
        },
        {
          "output_type": "display_data",
          "data": {
            "text/plain": [
              "<IPython.core.display.Javascript object>"
            ],
            "application/javascript": [
              "\n",
              "                    async function getVisitorId() {\n",
              "                        return import('https://upgini.github.io/upgini/js/a.js')\n",
              "                            .then(FingerprintJS => FingerprintJS.load())\n",
              "                            .then(fp => fp.get())\n",
              "                            .then(result => result.visitorId);\n",
              "                    }\n",
              "                    "
            ]
          },
          "metadata": {}
        },
        {
          "output_type": "display_data",
          "data": {
            "text/plain": [
              "<IPython.core.display.Javascript object>"
            ],
            "application/javascript": [
              "\n",
              "                    async function getVisitorId() {\n",
              "                        return import('https://upgini.github.io/upgini/js/a.js')\n",
              "                            .then(FingerprintJS => FingerprintJS.load())\n",
              "                            .then(fp => fp.get())\n",
              "                            .then(result => result.visitorId);\n",
              "                    }\n",
              "                    "
            ]
          },
          "metadata": {}
        },
        {
          "output_type": "display_data",
          "data": {
            "text/plain": [
              "<IPython.core.display.Javascript object>"
            ],
            "application/javascript": [
              "\n",
              "                    async function getVisitorId() {\n",
              "                        return import('https://upgini.github.io/upgini/js/a.js')\n",
              "                            .then(FingerprintJS => FingerprintJS.load())\n",
              "                            .then(fp => fp.get())\n",
              "                            .then(result => result.visitorId);\n",
              "                    }\n",
              "                    "
            ]
          },
          "metadata": {}
        },
        {
          "output_type": "display_data",
          "data": {
            "text/plain": [
              "<IPython.core.display.Javascript object>"
            ],
            "application/javascript": [
              "\n",
              "                    async function getVisitorId() {\n",
              "                        return import('https://upgini.github.io/upgini/js/a.js')\n",
              "                            .then(FingerprintJS => FingerprintJS.load())\n",
              "                            .then(fp => fp.get())\n",
              "                            .then(result => result.visitorId);\n",
              "                    }\n",
              "                    "
            ]
          },
          "metadata": {}
        },
        {
          "output_type": "display_data",
          "data": {
            "text/plain": [
              "<IPython.core.display.Javascript object>"
            ],
            "application/javascript": [
              "\n",
              "                    async function getVisitorId() {\n",
              "                        return import('https://upgini.github.io/upgini/js/a.js')\n",
              "                            .then(FingerprintJS => FingerprintJS.load())\n",
              "                            .then(fp => fp.get())\n",
              "                            .then(result => result.visitorId);\n",
              "                    }\n",
              "                    "
            ]
          },
          "metadata": {}
        },
        {
          "output_type": "display_data",
          "data": {
            "text/plain": [
              "<IPython.core.display.Javascript object>"
            ],
            "application/javascript": [
              "\n",
              "                    async function getVisitorId() {\n",
              "                        return import('https://upgini.github.io/upgini/js/a.js')\n",
              "                            .then(FingerprintJS => FingerprintJS.load())\n",
              "                            .then(fp => fp.get())\n",
              "                            .then(result => result.visitorId);\n",
              "                    }\n",
              "                    "
            ]
          },
          "metadata": {}
        },
        {
          "output_type": "display_data",
          "data": {
            "text/plain": [
              "<IPython.core.display.Javascript object>"
            ],
            "application/javascript": [
              "\n",
              "                        async function getIP() {\n",
              "                            return fetch(\"https://api64.ipify.org\")\n",
              "                                .then(response => response.text())\n",
              "                                .then(data => data);\n",
              "                        }\n",
              "                        "
            ]
          },
          "metadata": {}
        },
        {
          "output_type": "display_data",
          "data": {
            "text/plain": [
              "<IPython.core.display.Javascript object>"
            ],
            "application/javascript": [
              "\n",
              "                        async function getIP() {\n",
              "                            return fetch(\"https://api64.ipify.org\")\n",
              "                                .then(response => response.text())\n",
              "                                .then(data => data);\n",
              "                        }\n",
              "                        "
            ]
          },
          "metadata": {}
        },
        {
          "output_type": "display_data",
          "data": {
            "text/plain": [
              "<IPython.core.display.Javascript object>"
            ],
            "application/javascript": [
              "\n",
              "                        async function getIP() {\n",
              "                            return fetch(\"https://api64.ipify.org\")\n",
              "                                .then(response => response.text())\n",
              "                                .then(data => data);\n",
              "                        }\n",
              "                        "
            ]
          },
          "metadata": {}
        },
        {
          "output_type": "display_data",
          "data": {
            "text/plain": [
              "<IPython.core.display.Javascript object>"
            ],
            "application/javascript": [
              "\n",
              "                        async function getIP() {\n",
              "                            return fetch(\"https://api64.ipify.org\")\n",
              "                                .then(response => response.text())\n",
              "                                .then(data => data);\n",
              "                        }\n",
              "                        "
            ]
          },
          "metadata": {}
        },
        {
          "output_type": "display_data",
          "data": {
            "text/plain": [
              "<IPython.core.display.Javascript object>"
            ],
            "application/javascript": [
              "\n",
              "                        async function getIP() {\n",
              "                            return fetch(\"https://api64.ipify.org\")\n",
              "                                .then(response => response.text())\n",
              "                                .then(data => data);\n",
              "                        }\n",
              "                        "
            ]
          },
          "metadata": {}
        },
        {
          "output_type": "display_data",
          "data": {
            "text/plain": [
              "<IPython.core.display.Javascript object>"
            ],
            "application/javascript": [
              "\n",
              "                        async function getIP() {\n",
              "                            return fetch(\"https://api64.ipify.org\")\n",
              "                                .then(response => response.text())\n",
              "                                .then(data => data);\n",
              "                        }\n",
              "                        "
            ]
          },
          "metadata": {}
        },
        {
          "output_type": "display_data",
          "data": {
            "text/plain": [
              "<IPython.core.display.Javascript object>"
            ],
            "application/javascript": [
              "\n",
              "                        async function getIP() {\n",
              "                            return fetch(\"https://api64.ipify.org\")\n",
              "                                .then(response => response.text())\n",
              "                                .then(data => data);\n",
              "                        }\n",
              "                        "
            ]
          },
          "metadata": {}
        },
        {
          "output_type": "display_data",
          "data": {
            "text/plain": [
              "<IPython.core.display.Javascript object>"
            ],
            "application/javascript": [
              "\n",
              "                        async function getIP() {\n",
              "                            return fetch(\"https://api64.ipify.org\")\n",
              "                                .then(response => response.text())\n",
              "                                .then(data => data);\n",
              "                        }\n",
              "                        "
            ]
          },
          "metadata": {}
        },
        {
          "output_type": "display_data",
          "data": {
            "text/plain": [
              "<IPython.core.display.Javascript object>"
            ],
            "application/javascript": [
              "\n",
              "                        async function getIP() {\n",
              "                            return fetch(\"https://api64.ipify.org\")\n",
              "                                .then(response => response.text())\n",
              "                                .then(data => data);\n",
              "                        }\n",
              "                        "
            ]
          },
          "metadata": {}
        },
        {
          "output_type": "display_data",
          "data": {
            "text/plain": [
              "<IPython.core.display.Javascript object>"
            ],
            "application/javascript": [
              "\n",
              "                        async function getIP() {\n",
              "                            return fetch(\"https://api64.ipify.org\")\n",
              "                                .then(response => response.text())\n",
              "                                .then(data => data);\n",
              "                        }\n",
              "                        "
            ]
          },
          "metadata": {}
        },
        {
          "output_type": "display_data",
          "data": {
            "text/plain": [
              "<IPython.core.display.Javascript object>"
            ],
            "application/javascript": [
              "\n",
              "                        async function getIP() {\n",
              "                            return fetch(\"https://api64.ipify.org\")\n",
              "                                .then(response => response.text())\n",
              "                                .then(data => data);\n",
              "                        }\n",
              "                        "
            ]
          },
          "metadata": {}
        },
        {
          "output_type": "display_data",
          "data": {
            "text/plain": [
              "<IPython.core.display.Javascript object>"
            ],
            "application/javascript": [
              "\n",
              "                        async function getIP() {\n",
              "                            return fetch(\"https://api64.ipify.org\")\n",
              "                                .then(response => response.text())\n",
              "                                .then(data => data);\n",
              "                        }\n",
              "                        "
            ]
          },
          "metadata": {}
        },
        {
          "output_type": "display_data",
          "data": {
            "text/plain": [
              "<IPython.core.display.Javascript object>"
            ],
            "application/javascript": [
              "\n",
              "                        async function getIP() {\n",
              "                            return fetch(\"https://api64.ipify.org\")\n",
              "                                .then(response => response.text())\n",
              "                                .then(data => data);\n",
              "                        }\n",
              "                        "
            ]
          },
          "metadata": {}
        },
        {
          "output_type": "display_data",
          "data": {
            "text/plain": [
              "<IPython.core.display.Javascript object>"
            ],
            "application/javascript": [
              "\n",
              "                        async function getIP() {\n",
              "                            return fetch(\"https://api64.ipify.org\")\n",
              "                                .then(response => response.text())\n",
              "                                .then(data => data);\n",
              "                        }\n",
              "                        "
            ]
          },
          "metadata": {}
        },
        {
          "output_type": "display_data",
          "data": {
            "text/plain": [
              "<IPython.core.display.Javascript object>"
            ],
            "application/javascript": [
              "\n",
              "                        async function getIP() {\n",
              "                            return fetch(\"https://api64.ipify.org\")\n",
              "                                .then(response => response.text())\n",
              "                                .then(data => data);\n",
              "                        }\n",
              "                        "
            ]
          },
          "metadata": {}
        },
        {
          "output_type": "display_data",
          "data": {
            "text/plain": [
              "<IPython.core.display.Javascript object>"
            ],
            "application/javascript": [
              "\n",
              "                        async function getIP() {\n",
              "                            return fetch(\"https://api64.ipify.org\")\n",
              "                                .then(response => response.text())\n",
              "                                .then(data => data);\n",
              "                        }\n",
              "                        "
            ]
          },
          "metadata": {}
        },
        {
          "output_type": "display_data",
          "data": {
            "text/plain": [
              "<IPython.core.display.Javascript object>"
            ],
            "application/javascript": [
              "\n",
              "                        async function getIP() {\n",
              "                            return fetch(\"https://api64.ipify.org\")\n",
              "                                .then(response => response.text())\n",
              "                                .then(data => data);\n",
              "                        }\n",
              "                        "
            ]
          },
          "metadata": {}
        },
        {
          "output_type": "display_data",
          "data": {
            "text/plain": [
              "<IPython.core.display.Javascript object>"
            ],
            "application/javascript": [
              "\n",
              "                        async function getIP() {\n",
              "                            return fetch(\"https://api64.ipify.org\")\n",
              "                                .then(response => response.text())\n",
              "                                .then(data => data);\n",
              "                        }\n",
              "                        "
            ]
          },
          "metadata": {}
        },
        {
          "output_type": "display_data",
          "data": {
            "text/plain": [
              "<IPython.core.display.Javascript object>"
            ],
            "application/javascript": [
              "\n",
              "                        async function getIP() {\n",
              "                            return fetch(\"https://api64.ipify.org\")\n",
              "                                .then(response => response.text())\n",
              "                                .then(data => data);\n",
              "                        }\n",
              "                        "
            ]
          },
          "metadata": {}
        },
        {
          "output_type": "display_data",
          "data": {
            "text/plain": [
              "<IPython.core.display.Javascript object>"
            ],
            "application/javascript": [
              "\n",
              "                        async function getIP() {\n",
              "                            return fetch(\"https://api64.ipify.org\")\n",
              "                                .then(response => response.text())\n",
              "                                .then(data => data);\n",
              "                        }\n",
              "                        "
            ]
          },
          "metadata": {}
        },
        {
          "output_type": "display_data",
          "data": {
            "text/plain": [
              "<IPython.core.display.Javascript object>"
            ],
            "application/javascript": [
              "\n",
              "                        async function getIP() {\n",
              "                            return fetch(\"https://api64.ipify.org\")\n",
              "                                .then(response => response.text())\n",
              "                                .then(data => data);\n",
              "                        }\n",
              "                        "
            ]
          },
          "metadata": {}
        },
        {
          "output_type": "display_data",
          "data": {
            "text/plain": [
              "<IPython.core.display.Javascript object>"
            ],
            "application/javascript": [
              "\n",
              "                        async function getIP() {\n",
              "                            return fetch(\"https://api64.ipify.org\")\n",
              "                                .then(response => response.text())\n",
              "                                .then(data => data);\n",
              "                        }\n",
              "                        "
            ]
          },
          "metadata": {}
        },
        {
          "output_type": "display_data",
          "data": {
            "text/plain": [
              "<IPython.core.display.Javascript object>"
            ],
            "application/javascript": [
              "\n",
              "                        async function getIP() {\n",
              "                            return fetch(\"https://api64.ipify.org\")\n",
              "                                .then(response => response.text())\n",
              "                                .then(data => data);\n",
              "                        }\n",
              "                        "
            ]
          },
          "metadata": {}
        },
        {
          "output_type": "display_data",
          "data": {
            "text/plain": [
              "<IPython.core.display.Javascript object>"
            ],
            "application/javascript": [
              "\n",
              "                        async function getIP() {\n",
              "                            return fetch(\"https://api64.ipify.org\")\n",
              "                                .then(response => response.text())\n",
              "                                .then(data => data);\n",
              "                        }\n",
              "                        "
            ]
          },
          "metadata": {}
        },
        {
          "output_type": "display_data",
          "data": {
            "text/plain": [
              "<IPython.core.display.Javascript object>"
            ],
            "application/javascript": [
              "\n",
              "                        async function getIP() {\n",
              "                            return fetch(\"https://api64.ipify.org\")\n",
              "                                .then(response => response.text())\n",
              "                                .then(data => data);\n",
              "                        }\n",
              "                        "
            ]
          },
          "metadata": {}
        },
        {
          "output_type": "stream",
          "name": "stdout",
          "text": [
            "\n",
            "Running search request, search_id=57f09e0c-1d08-4daf-bc1a-96b4f324e368\n",
            "We'll send email notification once it's completed, just use your personal api_key from profile.upgini.com\n",
            "\n",
            "\u001b[92m\u001b[1m\n",
            "44 relevant feature(s) found with the search keys: ['date']\u001b[0m\n"
          ]
        },
        {
          "output_type": "display_data",
          "data": {
            "text/plain": [
              "<IPython.core.display.HTML object>"
            ],
            "text/html": [
              "<style>\n",
              "            .upgini-df thead th {\n",
              "                font-weight:bold;\n",
              "                text-align: center;\n",
              "                padding: 0.5em;\n",
              "                border-bottom: 2px solid black;\n",
              "            }\n",
              "\n",
              "            .upgini-df tbody td {\n",
              "                padding: 0.5em;\n",
              "                color: black;\n",
              "            }\n",
              "\n",
              "            .upgini-df tbody tr:nth-child(odd) {\n",
              "                background-color: #ffffff;\n",
              "            }\n",
              "\n",
              "            .upgini-df tbody tr:nth-child(even) {\n",
              "                background-color: #f2f2f2;\n",
              "            }\n",
              "\n",
              "            .upgini-text {\n",
              "                text-align: left;\n",
              "            }\n",
              "\n",
              "            .upgini-number {\n",
              "                text-align: center;\n",
              "            }\n",
              "        </style>\n",
              "        <h2>Relevant features</h2>\n",
              "        <div style=\"display:flex; flex-direction:column; align-items:flex-end; width: fit-content;\">\n",
              "            \n",
              "            <div style=\"text-align: right\">\n",
              "                <button onclick=navigator.clipboard.writeText(decodeURI('Feature%20name%09SHAP%20value%09Coverage%20%25%09Value%20preview%09Provider%09Source%09Updates%0Aitem%0911.7273%09100.0%0940,%2030,%2018%09%09%09%0Astore%097.9536%09100.0%095,%2010,%207%09%09%09%0Af_events_date_week_sin1_847b5db1%093.5109%09100.0%090.0,%20-0.4339,%20-0.9749%09Upgini%09Calendar%20data%09Daily%0Af_autofe_roll_3d_min_1a2ad6d8bb%091.3821%09100.0%090.3253,%20-0.2795,%20-0.3817%09Training%20dataset,%20Upgini%09AutoFE%3A%20features%20from%20Training%20dataset,%3Ca%20href%3D%27https%3A%2F%2Fupgini.com%2F%23data_sources%27%20target%3D%27_blank%27%20rel%3D%27noopener%20noreferrer%27%3ECalendar%20data%3C%2Fa%3E%09Daily%0Af_financial_date_crude_oil_7d_to_1y_c3e0ad17%091.2849%09100.0%091.0001,%201.0769,%201.0154%09Upgini%09Markets%20data%09Daily%0Af_autofe_roll_3d_median_8e12f1e1e9%091.1626%09100.0%090.309,%20-0.263,%20-0.3496%09Training%20dataset,%20Upgini%09AutoFE%3A%20features%20from%20Training%20dataset,%3Ca%20href%3D%27https%3A%2F%2Fupgini.com%2F%23data_sources%27%20target%3D%27_blank%27%20rel%3D%27noopener%20noreferrer%27%3ECalendar%20data%3C%2Fa%3E%09Daily%0Af_events_date_year_cos1_9014a856%091.0967%09100.0%090.3253,%20-0.263,%20-0.3496%09Upgini%09Calendar%20data%09Daily%0Af_events_date_week_cos3_7525fe31%090.8722%09100.0%091.0,%20-0.2225,%200.6235%09Upgini%09Calendar%20data%09Daily%0Af_autofe_roll_3d_q75_927f52faea%090.6021%09100.0%0933.0,%2091.0,%2031.5%09Training%20dataset%09AutoFE%3A%20features%20from%20Training%20dataset%09%0Af_economic_date_cci_pca_8_54959a61%090.5847%09100.0%09-1.0818,%20-0.8969,%20-1.9917%09Upgini%09World%20economic%20indicators%09Daily%0Af_autofe_roll_7d_median_e8edff6d9a%090.5017%09100.0%0983.0,%2033.0,%20100.0%09Training%20dataset%09AutoFE%3A%20features%20from%20Training%20dataset%09%0Af_autofe_roll_3d_max_946bf6086b%090.4816%09100.0%09111.0,%2049.0,%2061.0%09Training%20dataset%09AutoFE%3A%20features%20from%20Training%20dataset%09%0Af_autofe_roll_2d_norm_mean_f28c29d7cf%090.419%0983.5010060362173%0911.6843,%200.8726,%201.0332%09Training%20dataset,%20Upgini%09AutoFE%3A%20features%20from%20Training%20dataset,%3Ca%20href%3D%27https%3A%2F%2Fupgini.com%2F%23data_sources%27%20target%3D%27_blank%27%20rel%3D%27noopener%20noreferrer%27%3EMarkets%20data%3C%2Fa%3E%09Daily%0Af_autofe_roll_7d_max_f49b75b311%090.3375%09100.0%09130.0,%2096.0,%2082.0%09Training%20dataset%09AutoFE%3A%20features%20from%20Training%20dataset%09%0Af_autofe_roll_2d_std_eb944d44c9%090.3057%0999.86233188605316%090.7283,%200.8627,%201.2657%09Training%20dataset,%20Upgini%09AutoFE%3A%20features%20from%20Training%20dataset,%3Ca%20href%3D%27https%3A%2F%2Fupgini.com%2F%23data_sources%27%20target%3D%27_blank%27%20rel%3D%27noopener%20noreferrer%27%3EMarkets%20data%3C%2Fa%3E%09Daily%0Af_economic_date_cbpol_umap_6_aa0352de%090.2971%09100.0%091.0587,%206.9596,%201.0408%09Upgini%09World%20economic%20indicators%09Daily%0Af_events_date_year_sin1_3c44bc64%090.2783%09100.0%09-0.9456,%200.9806,%200.9967%09Upgini%09Calendar%20data%09Daily%0Af_autofe_lag_2d_82f0cadd32%090.2733%0999.72466377210633%090.9445,%201.0953,%200.9544%09Training%20dataset,%20Upgini%09AutoFE%3A%20features%20from%20Training%20dataset,%3Ca%20href%3D%27https%3A%2F%2Fupgini.com%2F%23data_sources%27%20target%3D%27_blank%27%20rel%3D%27noopener%20noreferrer%27%3EMarkets%20data%3C%2Fa%3E%09Daily%0Af_autofe_delta_7d_9b21a1d315%090.2726%0999.19517102615694%0959.0,%2095.0,%2037.0%09Training%20dataset%09AutoFE%3A%20features%20from%20Training%20dataset%09%0Af_autofe_roll_2d_norm_mean_b7552e632c%090.2439%0983.71280313459705%093.4643,%20-0.5714,%20-7.5555%09Training%20dataset,%20Upgini%09AutoFE%3A%20features%20from%20Training%20dataset,%3Ca%20href%3D%27https%3A%2F%2Fupgini.com%2F%23data_sources%27%20target%3D%27_blank%27%20rel%3D%27noopener%20noreferrer%27%3EMarkets%20data%3C%2Fa%3E%09Daily%0Af_autofe_lag_7d_a158285546%090.2121%0999.19517102615694%090.9683,%200.9951,%200.9726%09Training%20dataset,%20Upgini%09AutoFE%3A%20features%20from%20Training%20dataset,%3Ca%20href%3D%27https%3A%2F%2Fupgini.com%2F%23data_sources%27%20target%3D%27_blank%27%20rel%3D%27noopener%20noreferrer%27%3EMarkets%20data%3C%2Fa%3E%09Daily%0Af_autofe_roll_2d_norm_mean_88a20b471e%090.2091%0983.97754950757175%09-124.3991,%201.6322,%20-8.9293%09Training%20dataset,%20Upgini%09AutoFE%3A%20features%20from%20Training%20dataset,%3Ca%20href%3D%27https%3A%2F%2Fupgini.com%2F%23data_sources%27%20target%3D%27_blank%27%20rel%3D%27noopener%20noreferrer%27%3EMarkets%20data%3C%2Fa%3E%09Daily%0Af_autofe_lag_3d_497740d13d%090.1891%0999.58699565815948%090.41,%200.13,%200.48%09Training%20dataset,%20Upgini%09AutoFE%3A%20features%20from%20Training%20dataset,%3Ca%20href%3D%27https%3A%2F%2Fupgini.com%2F%23data_sources%27%20target%3D%27_blank%27%20rel%3D%27noopener%20noreferrer%27%3EMarkets%20data%3C%2Fa%3E%09Daily%0Af_autofe_roll_2d_norm_mean_bc7947738c%090.1765%0982.70676691729324%090.6535,%201.3953,%205.8666%09Training%20dataset,%20Upgini%09AutoFE%3A%20features%20from%20Training%20dataset,%3Ca%20href%3D%27https%3A%2F%2Fupgini.com%2F%23data_sources%27%20target%3D%27_blank%27%20rel%3D%27noopener%20noreferrer%27%3EMarkets%20data%3C%2Fa%3E%09Daily%0Af_financial_date_usd_7d_to_1y_9cbe7ef8%090.1612%09100.0%090.9495,%201.0093,%200.944%09Upgini%09Markets%20data%09Daily%0Af_autofe_lag_7d_4a1d9c9dff%090.1591%0999.19517102615694%09107.0,%20129.0,%2045.0%09Training%20dataset%09AutoFE%3A%20features%20from%20Training%20dataset%09%0Af_financial_date_crude_oil_7d_to_7d_1y_shift_718136ef%090.1568%09100.0%091.1506,%200.9844,%201.2121%09Upgini%09Markets%20data%09Daily%0Af_autofe_roll_2d_std_187b1d1f8a%090.1498%0999.86233188605316%090.003,%200.0011,%200.0003%09Training%20dataset,%20Upgini%09AutoFE%3A%20features%20from%20Training%20dataset,%3Ca%20href%3D%27https%3A%2F%2Fupgini.com%2F%23data_sources%27%20target%3D%27_blank%27%20rel%3D%27noopener%20noreferrer%27%3EMarkets%20data%3C%2Fa%3E%09Daily%0Af_autofe_lag_7d_5eb2763364%090.1422%0999.19517102615694%090.8019,%201.2501,%200.8325%09Training%20dataset,%20Upgini%09AutoFE%3A%20features%20from%20Training%20dataset,%3Ca%20href%3D%27https%3A%2F%2Fupgini.com%2F%23data_sources%27%20target%3D%27_blank%27%20rel%3D%27noopener%20noreferrer%27%3EMarkets%20data%3C%2Fa%3E%09Daily%0Af_autofe_roll_3d_median_97804b26e6%090.1369%09100.0%09119.0,%2022.0,%20100.0%09Training%20dataset%09AutoFE%3A%20features%20from%20Training%20dataset%09%0Af_autofe_lag_7d_8b4b290346%090.1286%0999.19517102615694%0976.51,%2041.5,%2043.87%09Training%20dataset,%20Upgini%09AutoFE%3A%20features%20from%20Training%20dataset,%3Ca%20href%3D%27https%3A%2F%2Fupgini.com%2F%23data_sources%27%20target%3D%27_blank%27%20rel%3D%27noopener%20noreferrer%27%3EMarkets%20data%3C%2Fa%3E%09Daily%0Af_autofe_roll_7d_std_c9b63bd7b1%090.1249%0999.86233188605316%090.0035,%200.0181,%200.0119%09Training%20dataset,%20Upgini%09AutoFE%3A%20features%20from%20Training%20dataset,%3Ca%20href%3D%27https%3A%2F%2Fupgini.com%2F%23data_sources%27%20target%3D%27_blank%27%20rel%3D%27noopener%20noreferrer%27%3EMarkets%20data%3C%2Fa%3E%09Daily%0Af_autofe_lag_28d_aaadd46bbb%090.1174%0997.10896960711638%09107.0,%20129.0,%2045.0%09Training%20dataset%09AutoFE%3A%20features%20from%20Training%20dataset%09%0Af_autofe_lag_2d_c4918d0ea0%090.1104%0999.72466377210633%0912.85,%2011.94,%2017.08%09Training%20dataset,%20Upgini%09AutoFE%3A%20features%20from%20Training%20dataset,%3Ca%20href%3D%27https%3A%2F%2Fupgini.com%2F%23data_sources%27%20target%3D%27_blank%27%20rel%3D%27noopener%20noreferrer%27%3EMarkets%20data%3C%2Fa%3E%09Daily%0Af_financial_date_silver_7d_to_1y_0ccfe462%090.1004%09100.0%090.9445,%201.0953,%200.9544%09Upgini%09Markets%20data%09Daily%0Af_events_date_year_sin2_59955ffd%090.1003%09100.0%09-0.6153,%200.3847,%20-0.1628%09Upgini%09Calendar%20data%09Daily%0Af_autofe_lag_7d_17939c9a07%090.0992%0999.19517102615694%090.8293,%201.2134,%200.8184%09Training%20dataset,%20Upgini%09AutoFE%3A%20features%20from%20Training%20dataset,%3Ca%20href%3D%27https%3A%2F%2Fupgini.com%2F%23data_sources%27%20target%3D%27_blank%27%20rel%3D%27noopener%20noreferrer%27%3EMarkets%20data%3C%2Fa%3E%09Daily%0Af_financial_date_finance_umap_0_3c020a5e%090.0982%09100.0%099.7171,%2010.682,%209.6659%09Upgini%09Markets%20data%09Daily%0Af_autofe_lag_14d_0da85cf5ba%090.0941%0998.49624060150376%09107.0,%20129.0,%2045.0%09Training%20dataset%09AutoFE%3A%20features%20from%20Training%20dataset%09%0Af_autofe_roll_2d_norm_mean_d3cb397c66%090.0929%0979.84750608916657%091.5,%201.2,%2020972.0%09Training%20dataset,%20Upgini%09AutoFE%3A%20features%20from%20Training%20dataset,%3Ca%20href%3D%27https%3A%2F%2Fupgini.com%2F%23data_sources%27%20target%3D%27_blank%27%20rel%3D%27noopener%20noreferrer%27%3EMarkets%20data%3C%2Fa%3E%09Daily%0Af_autofe_roll_2d_norm_mean_85d150daec%090.0916%0982.7385364820502%09-0.3636,%201.4453,%20-2.6882%09Training%20dataset,%20Upgini%09AutoFE%3A%20features%20from%20Training%20dataset,%3Ca%20href%3D%27https%3A%2F%2Fupgini.com%2F%23data_sources%27%20target%3D%27_blank%27%20rel%3D%27noopener%20noreferrer%27%3EMarkets%20data%3C%2Fa%3E%09Daily%0Af_autofe_lag_7d_383f2b72f6%090.0891%0999.19517102615694%090.9445,%201.0953,%200.9544%09Training%20dataset,%20Upgini%09AutoFE%3A%20features%20from%20Training%20dataset,%3Ca%20href%3D%27https%3A%2F%2Fupgini.com%2F%23data_sources%27%20target%3D%27_blank%27%20rel%3D%27noopener%20noreferrer%27%3EMarkets%20data%3C%2Fa%3E%09Daily%0Af_autofe_roll_7d_norm_mean_e25c9053c6%090.0813%09100.0%091.0584,%200.9653,%201.039%09Training%20dataset,%20Upgini%09AutoFE%3A%20features%20from%20Training%20dataset,%3Ca%20href%3D%27https%3A%2F%2Fupgini.com%2F%23data_sources%27%20target%3D%27_blank%27%20rel%3D%27noopener%20noreferrer%27%3EMarkets%20data%3C%2Fa%3E%09Daily%0Af_autofe_lag_84d_f82bbe9151%090.08%0990.81859578523775%09107.0,%20129.0,%2045.0%09Training%20dataset%09AutoFE%3A%20features%20from%20Training%20dataset%09%0A'))>📂 Copy</button>\n",
              "                <a href='mailto:<Share with...>?subject=Relevant external data sources from Upgini.com&body=Feature%20name%09SHAP%20value%09Coverage%20%25%09Value%20preview%09Provider%09Source%09Updates%0Aitem%0911.7273%09100.0%0940,%2030,%2018%09%09%09%0Astore%097.9536%09100.0%095,%2010,%207%09%09%09%0Af_events_date_week_sin1_847b5db1%093.5109%09100.0%090.0,%20-0.4339,%20-0.9749%09Upgini%09Calendar%20data%09Daily%0Af_autofe_roll_3d_min_1a2ad6d8bb%091.3821%09100.0%090.3253,%20-0.2795,%20-0.3817%09Training%20dataset,%20Upgini%09AutoFE%3A%20features%20from%20Training%20dataset,%3Ca%20href%3D%27https%3A%2F%2Fupgini.com%2F%23data_sources%27%20target%3D%27_blank%27%20rel%3D%27noopener%20noreferrer%27%3ECalendar%20data%3C%2Fa%3E%09Daily%0Af_financial_date_crude_oil_7d_to_1y_c3e0ad17%091.2849%09100.0%091.0001,%201.0769,%201.0154%09Upgini%09Markets%20data%09Daily%0Af_autofe_roll_3d_median_8e12f1e1e9%091.1626%09100.0%090.309,%20-0.263,%20-0.3496%09Training%20dataset,%20Upgini%09AutoFE%3A%20features%20from%20Training%20dataset,%3Ca%20href%3D%27https%3A%2F%2Fupgini.com%2F%23data_sources%27%20target%3D%27_blank%27%20rel%3D%27noopener%20noreferrer%27%3ECalendar%20data%3C%2Fa%3E%09Daily%0Af_events_date_year_cos1_9014a856%091.0967%09100.0%090.3253,%20-0.263,%20-0.3496%09Upgini%09Calendar%20data%09Daily%0Af_events_date_week_cos3_7525fe31%090.8722%09100.0%091.0,%20-0.2225,%200.6235%09Upgini%09Calendar%20data%09Daily%0Af_autofe_roll_3d_q75_927f52faea%090.6021%09100.0%0933.0,%2091.0,%2031.5%09Training%20dataset%09AutoFE%3A%20features%20from%20Training%20dataset%09%0Af_economic_date_cci_pca_8_54959a61%090.5847%09100.0%09-1.0818,%20-0.8969,%20-1.9917%09Upgini%09World%20economic%20indicators%09Daily%0Af_autofe_roll_7d_median_e8edff6d9a%090.5017%09100.0%0983.0,%2033.0,%20100.0%09Training%20dataset%09AutoFE%3A%20features%20from%20Training%20dataset%09%0Af_autofe_roll_3d_max_946bf6086b%090.4816%09100.0%09111.0,%2049.0,%2061.0%09Training%20dataset%09AutoFE%3A%20features%20from%20Training%20dataset%09%0Af_autofe_roll_2d_norm_mean_f28c29d7cf%090.419%0983.5010060362173%0911.6843,%200.8726,%201.0332%09Training%20dataset,%20Upgini%09AutoFE%3A%20features%20from%20Training%20dataset,%3Ca%20href%3D%27https%3A%2F%2Fupgini.com%2F%23data_sources%27%20target%3D%27_blank%27%20rel%3D%27noopener%20noreferrer%27%3EMarkets%20data%3C%2Fa%3E%09Daily%0Af_autofe_roll_7d_max_f49b75b311%090.3375%09100.0%09130.0,%2096.0,%2082.0%09Training%20dataset%09AutoFE%3A%20features%20from%20Training%20dataset%09%0Af_autofe_roll_2d_std_eb944d44c9%090.3057%0999.86233188605316%090.7283,%200.8627,%201.2657%09Training%20dataset,%20Upgini%09AutoFE%3A%20features%20from%20Training%20dataset,%3Ca%20href%3D%27https%3A%2F%2Fupgini.com%2F%23data_sources%27%20target%3D%27_blank%27%20rel%3D%27noopener%20noreferrer%27%3EMarkets%20data%3C%2Fa%3E%09Daily%0Af_economic_date_cbpol_umap_6_aa0352de%090.2971%09100.0%091.0587,%206.9596,%201.0408%09Upgini%09World%20economic%20indicators%09Daily%0Af_events_date_year_sin1_3c44bc64%090.2783%09100.0%09-0.9456,%200.9806,%200.9967%09Upgini%09Calendar%20data%09Daily%0Af_autofe_lag_2d_82f0cadd32%090.2733%0999.72466377210633%090.9445,%201.0953,%200.9544%09Training%20dataset,%20Upgini%09AutoFE%3A%20features%20from%20Training%20dataset,%3Ca%20href%3D%27https%3A%2F%2Fupgini.com%2F%23data_sources%27%20target%3D%27_blank%27%20rel%3D%27noopener%20noreferrer%27%3EMarkets%20data%3C%2Fa%3E%09Daily%0Af_autofe_delta_7d_9b21a1d315%090.2726%0999.19517102615694%0959.0,%2095.0,%2037.0%09Training%20dataset%09AutoFE%3A%20features%20from%20Training%20dataset%09%0Af_autofe_roll_2d_norm_mean_b7552e632c%090.2439%0983.71280313459705%093.4643,%20-0.5714,%20-7.5555%09Training%20dataset,%20Upgini%09AutoFE%3A%20features%20from%20Training%20dataset,%3Ca%20href%3D%27https%3A%2F%2Fupgini.com%2F%23data_sources%27%20target%3D%27_blank%27%20rel%3D%27noopener%20noreferrer%27%3EMarkets%20data%3C%2Fa%3E%09Daily%0Af_autofe_lag_7d_a158285546%090.2121%0999.19517102615694%090.9683,%200.9951,%200.9726%09Training%20dataset,%20Upgini%09AutoFE%3A%20features%20from%20Training%20dataset,%3Ca%20href%3D%27https%3A%2F%2Fupgini.com%2F%23data_sources%27%20target%3D%27_blank%27%20rel%3D%27noopener%20noreferrer%27%3EMarkets%20data%3C%2Fa%3E%09Daily%0Af_autofe_roll_2d_norm_mean_88a20b471e%090.2091%0983.97754950757175%09-124.3991,%201.6322,%20-8.9293%09Training%20dataset,%20Upgini%09AutoFE%3A%20features%20from%20Training%20dataset,%3Ca%20href%3D%27https%3A%2F%2Fupgini.com%2F%23data_sources%27%20target%3D%27_blank%27%20rel%3D%27noopener%20noreferrer%27%3EMarkets%20data%3C%2Fa%3E%09Daily%0Af_autofe_lag_3d_497740d13d%090.1891%0999.58699565815948%090.41,%200.13,%200.48%09Training%20dataset,%20Upgini%09AutoFE%3A%20features%20from%20Training%20dataset,%3Ca%20href%3D%27https%3A%2F%2Fupgini.com%2F%23data_sources%27%20target%3D%27_blank%27%20rel%3D%27noopener%20noreferrer%27%3EMarkets%20data%3C%2Fa%3E%09Daily%0Af_autofe_roll_2d_norm_mean_bc7947738c%090.1765%0982.70676691729324%090.6535,%201.3953,%205.8666%09Training%20dataset,%20Upgini%09AutoFE%3A%20features%20from%20Training%20dataset,%3Ca%20href%3D%27https%3A%2F%2Fupgini.com%2F%23data_sources%27%20target%3D%27_blank%27%20rel%3D%27noopener%20noreferrer%27%3EMarkets%20data%3C%2Fa%3E%09Daily%0Af_financial_date_usd_7d_to_1y_9cbe7ef8%090.1612%09100.0%090.9495,%201.0093,%200.944%09Upgini%09Markets%20data%09Daily%0Af_autofe_lag_7d_4a1d9c9dff%090.1591%0999.19517102615694%09107.0,%20129.0,%2045.0%09Training%20dataset%09AutoFE%3A%20features%20from%20Training%20dataset%09%0Af_financial_date_crude_oil_7d_to_7d_1y_shift_718136ef%090.1568%09100.0%091.1506,%200.9844,%201.2121%09Upgini%09Markets%20data%09Daily%0Af_autofe_roll_2d_std_187b1d1f8a%090.1498%0999.86233188605316%090.003,%200.0011,%200.0003%09Training%20dataset,%20Upgini%09AutoFE%3A%20features%20from%20Training%20dataset,%3Ca%20href%3D%27https%3A%2F%2Fupgini.com%2F%23data_sources%27%20target%3D%27_blank%27%20rel%3D%27noopener%20noreferrer%27%3EMarkets%20data%3C%2Fa%3E%09Daily%0Af_autofe_lag_7d_5eb2763364%090.1422%0999.19517102615694%090.8019,%201.2501,%200.8325%09Training%20dataset,%20Upgini%09AutoFE%3A%20features%20from%20Training%20dataset,%3Ca%20href%3D%27https%3A%2F%2Fupgini.com%2F%23data_sources%27%20target%3D%27_blank%27%20rel%3D%27noopener%20noreferrer%27%3EMarkets%20data%3C%2Fa%3E%09Daily%0Af_autofe_roll_3d_median_97804b26e6%090.1369%09100.0%09119.0,%2022.0,%20100.0%09Training%20dataset%09AutoFE%3A%20features%20from%20Training%20dataset%09%0Af_autofe_lag_7d_8b4b290346%090.1286%0999.19517102615694%0976.51,%2041.5,%2043.87%09Training%20dataset,%20Upgini%09AutoFE%3A%20features%20from%20Training%20dataset,%3Ca%20href%3D%27https%3A%2F%2Fupgini.com%2F%23data_sources%27%20target%3D%27_blank%27%20rel%3D%27noopener%20noreferrer%27%3EMarkets%20data%3C%2Fa%3E%09Daily%0Af_autofe_roll_7d_std_c9b63bd7b1%090.1249%0999.86233188605316%090.0035,%200.0181,%200.0119%09Training%20dataset,%20Upgini%09AutoFE%3A%20features%20from%20Training%20dataset,%3Ca%20href%3D%27https%3A%2F%2Fupgini.com%2F%23data_sources%27%20target%3D%27_blank%27%20rel%3D%27noopener%20noreferrer%27%3EMarkets%20data%3C%2Fa%3E%09Daily%0Af_autofe_lag_28d_aaadd46bbb%090.1174%0997.10896960711638%09107.0,%20129.0,%2045.0%09Training%20dataset%09AutoFE%3A%20features%20from%20Training%20dataset%09%0Af_autofe_lag_2d_c4918d0ea0%090.1104%0999.72466377210633%0912.85,%2011.94,%2017.08%09Training%20dataset,%20Upgini%09AutoFE%3A%20features%20from%20Training%20dataset,%3Ca%20href%3D%27https%3A%2F%2Fupgini.com%2F%23data_sources%27%20target%3D%27_blank%27%20rel%3D%27noopener%20noreferrer%27%3EMarkets%20data%3C%2Fa%3E%09Daily%0Af_financial_date_silver_7d_to_1y_0ccfe462%090.1004%09100.0%090.9445,%201.0953,%200.9544%09Upgini%09Markets%20data%09Daily%0Af_events_date_year_sin2_59955ffd%090.1003%09100.0%09-0.6153,%200.3847,%20-0.1628%09Upgini%09Calendar%20data%09Daily%0Af_autofe_lag_7d_17939c9a07%090.0992%0999.19517102615694%090.8293,%201.2134,%200.8184%09Training%20dataset,%20Upgini%09AutoFE%3A%20features%20from%20Training%20dataset,%3Ca%20href%3D%27https%3A%2F%2Fupgini.com%2F%23data_sources%27%20target%3D%27_blank%27%20rel%3D%27noopener%20noreferrer%27%3EMarkets%20data%3C%2Fa%3E%09Daily%0Af_financial_date_finance_umap_0_3c020a5e%090.0982%09100.0%099.7171,%2010.682,%209.6659%09Upgini%09Markets%20data%09Daily%0Af_autofe_lag_14d_0da85cf5ba%090.0941%0998.49624060150376%09107.0,%20129.0,%2045.0%09Training%20dataset%09AutoFE%3A%20features%20from%20Training%20dataset%09%0Af_autofe_roll_2d_norm_mean_d3cb397c66%090.0929%0979.84750608916657%091.5,%201.2,%2020972.0%09Training%20dataset,%20Upgini%09AutoFE%3A%20features%20from%20Training%20dataset,%3Ca%20href%3D%27https%3A%2F%2Fupgini.com%2F%23data_sources%27%20target%3D%27_blank%27%20rel%3D%27noopener%20noreferrer%27%3EMarkets%20data%3C%2Fa%3E%09Daily%0Af_autofe_roll_2d_norm_mean_85d150daec%090.0916%0982.7385364820502%09-0.3636,%201.4453,%20-2.6882%09Training%20dataset,%20Upgini%09AutoFE%3A%20features%20from%20Training%20dataset,%3Ca%20href%3D%27https%3A%2F%2Fupgini.com%2F%23data_sources%27%20target%3D%27_blank%27%20rel%3D%27noopener%20noreferrer%27%3EMarkets%20data%3C%2Fa%3E%09Daily%0Af_autofe_lag_7d_383f2b72f6%090.0891%0999.19517102615694%090.9445,%201.0953,%200.9544%09Training%20dataset,%20Upgini%09AutoFE%3A%20features%20from%20Training%20dataset,%3Ca%20href%3D%27https%3A%2F%2Fupgini.com%2F%23data_sources%27%20target%3D%27_blank%27%20rel%3D%27noopener%20noreferrer%27%3EMarkets%20data%3C%2Fa%3E%09Daily%0Af_autofe_roll_7d_norm_mean_e25c9053c6%090.0813%09100.0%091.0584,%200.9653,%201.039%09Training%20dataset,%20Upgini%09AutoFE%3A%20features%20from%20Training%20dataset,%3Ca%20href%3D%27https%3A%2F%2Fupgini.com%2F%23data_sources%27%20target%3D%27_blank%27%20rel%3D%27noopener%20noreferrer%27%3EMarkets%20data%3C%2Fa%3E%09Daily%0Af_autofe_lag_84d_f82bbe9151%090.08%0990.81859578523775%09107.0,%20129.0,%2045.0%09Training%20dataset%09AutoFE%3A%20features%20from%20Training%20dataset%09%0A'>\n",
              "                    <button>📨 Share</button>\n",
              "                </a>\n",
              "            </div>\n",
              "            <table class='upgini-df'><thead><th>Feature name</th><th>SHAP value</th><th>Coverage %</th><th>Value preview</th><th>Provider</th><th>Source</th><th>Updates</th></thead><tbody><tr><td class='upgini-text'>item</td><td class='upgini-number'>11.7273</td><td class='upgini-number'>100.0000</td><td class='upgini-text'>40, 30, 18</td><td class='upgini-text'>&nbsp;</td><td class='upgini-text'>&nbsp;</td><td class='upgini-text'>&nbsp;</td></tr><tr><td class='upgini-text'>store</td><td class='upgini-number'>7.9536</td><td class='upgini-number'>100.0000</td><td class='upgini-text'>5, 10, 7</td><td class='upgini-text'>&nbsp;</td><td class='upgini-text'>&nbsp;</td><td class='upgini-text'>&nbsp;</td></tr><tr><td class='upgini-text'><a href='https://docs.upgini.com/public/calendar/calendar#f_events_date_week_sin1_847b5db1' target='_blank' rel='noopener noreferrer'>f_events_date_week_sin1_847b5db1</a></td><td class='upgini-number'>3.5109</td><td class='upgini-number'>100.0000</td><td class='upgini-text'>0.0, -0.4339, -0.9749</td><td class='upgini-text'><a href='https://upgini.com/' target='_blank' rel='noopener noreferrer'>Upgini</a></td><td class='upgini-text'><a href='https://upgini.com/#data_sources' target='_blank' rel='noopener noreferrer'>Calendar data</a></td><td class='upgini-text'>Daily</td></tr><tr><td class='upgini-text'>f_autofe_roll_3d_min_1a2ad6d8bb</td><td class='upgini-number'>1.3821</td><td class='upgini-number'>100.0000</td><td class='upgini-text'>0.3253, -0.2795, -0.3817</td><td class='upgini-text'>Training dataset,<a href='https://upgini.com/' target='_blank' rel='noopener noreferrer'>Upgini</a></td><td class='upgini-text'>AutoFE: features from Training dataset,<a href='https://upgini.com/#data_sources' target='_blank' rel='noopener noreferrer'>Calendar data</a></td><td class='upgini-text'>Daily</td></tr><tr><td class='upgini-text'><a href='https://docs.upgini.com/public/markets/finance#f_financial_date_crude_oil_7d_to_1y_c3e0ad17' target='_blank' rel='noopener noreferrer'>f_financial_date_crude_oil_7d_to_1y_c3e0ad17</a></td><td class='upgini-number'>1.2849</td><td class='upgini-number'>100.0000</td><td class='upgini-text'>1.0001, 1.0769, 1.0154</td><td class='upgini-text'><a href='https://upgini.com/' target='_blank' rel='noopener noreferrer'>Upgini</a></td><td class='upgini-text'><a href='https://upgini.com/#data_sources' target='_blank' rel='noopener noreferrer'>Markets data</a></td><td class='upgini-text'>Daily</td></tr><tr><td class='upgini-text'>f_autofe_roll_3d_median_8e12f1e1e9</td><td class='upgini-number'>1.1626</td><td class='upgini-number'>100.0000</td><td class='upgini-text'>0.309, -0.263, -0.3496</td><td class='upgini-text'>Training dataset,<a href='https://upgini.com/' target='_blank' rel='noopener noreferrer'>Upgini</a></td><td class='upgini-text'>AutoFE: features from Training dataset,<a href='https://upgini.com/#data_sources' target='_blank' rel='noopener noreferrer'>Calendar data</a></td><td class='upgini-text'>Daily</td></tr><tr><td class='upgini-text'><a href='https://docs.upgini.com/public/calendar/calendar#f_events_date_year_cos1_9014a856' target='_blank' rel='noopener noreferrer'>f_events_date_year_cos1_9014a856</a></td><td class='upgini-number'>1.0967</td><td class='upgini-number'>100.0000</td><td class='upgini-text'>0.3253, -0.263, -0.3496</td><td class='upgini-text'><a href='https://upgini.com/' target='_blank' rel='noopener noreferrer'>Upgini</a></td><td class='upgini-text'><a href='https://upgini.com/#data_sources' target='_blank' rel='noopener noreferrer'>Calendar data</a></td><td class='upgini-text'>Daily</td></tr><tr><td class='upgini-text'><a href='https://docs.upgini.com/public/calendar/calendar#f_events_date_week_cos3_7525fe31' target='_blank' rel='noopener noreferrer'>f_events_date_week_cos3_7525fe31</a></td><td class='upgini-number'>0.8722</td><td class='upgini-number'>100.0000</td><td class='upgini-text'>1.0, -0.2225, 0.6235</td><td class='upgini-text'><a href='https://upgini.com/' target='_blank' rel='noopener noreferrer'>Upgini</a></td><td class='upgini-text'><a href='https://upgini.com/#data_sources' target='_blank' rel='noopener noreferrer'>Calendar data</a></td><td class='upgini-text'>Daily</td></tr><tr><td class='upgini-text'>f_autofe_roll_3d_q75_927f52faea</td><td class='upgini-number'>0.6021</td><td class='upgini-number'>100.0000</td><td class='upgini-text'>33.0, 91.0, 31.5</td><td class='upgini-text'>Training dataset</td><td class='upgini-text'>AutoFE: features from Training dataset</td><td class='upgini-text'>&nbsp;</td></tr><tr><td class='upgini-text'><a href='https://docs.upgini.com/public/economics/cci_pca#f_economic_date_cci_pca_8_54959a61' target='_blank' rel='noopener noreferrer'>f_economic_date_cci_pca_8_54959a61</a></td><td class='upgini-number'>0.5847</td><td class='upgini-number'>100.0000</td><td class='upgini-text'>-1.0818, -0.8969, -1.9917</td><td class='upgini-text'><a href='https://upgini.com/' target='_blank' rel='noopener noreferrer'>Upgini</a></td><td class='upgini-text'><a href='https://upgini.com/#data_sources' target='_blank' rel='noopener noreferrer'>World economic indicators</a></td><td class='upgini-text'>Daily</td></tr><tr><td class='upgini-text'>f_autofe_roll_7d_median_e8edff6d9a</td><td class='upgini-number'>0.5017</td><td class='upgini-number'>100.0000</td><td class='upgini-text'>83.0, 33.0, 100.0</td><td class='upgini-text'>Training dataset</td><td class='upgini-text'>AutoFE: features from Training dataset</td><td class='upgini-text'>&nbsp;</td></tr><tr><td class='upgini-text'>f_autofe_roll_3d_max_946bf6086b</td><td class='upgini-number'>0.4816</td><td class='upgini-number'>100.0000</td><td class='upgini-text'>111.0, 49.0, 61.0</td><td class='upgini-text'>Training dataset</td><td class='upgini-text'>AutoFE: features from Training dataset</td><td class='upgini-text'>&nbsp;</td></tr><tr><td class='upgini-text'>f_autofe_roll_2d_norm_mean_f28c29d7cf</td><td class='upgini-number'>0.4190</td><td class='upgini-number'>83.5010</td><td class='upgini-text'>11.6843, 0.8726, 1.0332</td><td class='upgini-text'>Training dataset,<a href='https://upgini.com/' target='_blank' rel='noopener noreferrer'>Upgini</a></td><td class='upgini-text'>AutoFE: features from Training dataset,<a href='https://upgini.com/#data_sources' target='_blank' rel='noopener noreferrer'>Markets data</a></td><td class='upgini-text'>Daily</td></tr><tr><td class='upgini-text'>f_autofe_roll_7d_max_f49b75b311</td><td class='upgini-number'>0.3375</td><td class='upgini-number'>100.0000</td><td class='upgini-text'>130.0, 96.0, 82.0</td><td class='upgini-text'>Training dataset</td><td class='upgini-text'>AutoFE: features from Training dataset</td><td class='upgini-text'>&nbsp;</td></tr><tr><td class='upgini-text'>f_autofe_roll_2d_std_eb944d44c9</td><td class='upgini-number'>0.3057</td><td class='upgini-number'>99.8623</td><td class='upgini-text'>0.7283, 0.8627, 1.2657</td><td class='upgini-text'>Training dataset,<a href='https://upgini.com/' target='_blank' rel='noopener noreferrer'>Upgini</a></td><td class='upgini-text'>AutoFE: features from Training dataset,<a href='https://upgini.com/#data_sources' target='_blank' rel='noopener noreferrer'>Markets data</a></td><td class='upgini-text'>Daily</td></tr><tr><td class='upgini-text'><a href='https://docs.upgini.com/public/economics/cbpol_umap#f_economic_date_cbpol_umap_6_aa0352de' target='_blank' rel='noopener noreferrer'>f_economic_date_cbpol_umap_6_aa0352de</a></td><td class='upgini-number'>0.2971</td><td class='upgini-number'>100.0000</td><td class='upgini-text'>1.0587, 6.9596, 1.0408</td><td class='upgini-text'><a href='https://upgini.com/' target='_blank' rel='noopener noreferrer'>Upgini</a></td><td class='upgini-text'><a href='https://upgini.com/#data_sources' target='_blank' rel='noopener noreferrer'>World economic indicators</a></td><td class='upgini-text'>Daily</td></tr><tr><td class='upgini-text'><a href='https://docs.upgini.com/public/calendar/calendar#f_events_date_year_sin1_3c44bc64' target='_blank' rel='noopener noreferrer'>f_events_date_year_sin1_3c44bc64</a></td><td class='upgini-number'>0.2783</td><td class='upgini-number'>100.0000</td><td class='upgini-text'>-0.9456, 0.9806, 0.9967</td><td class='upgini-text'><a href='https://upgini.com/' target='_blank' rel='noopener noreferrer'>Upgini</a></td><td class='upgini-text'><a href='https://upgini.com/#data_sources' target='_blank' rel='noopener noreferrer'>Calendar data</a></td><td class='upgini-text'>Daily</td></tr><tr><td class='upgini-text'>f_autofe_lag_2d_82f0cadd32</td><td class='upgini-number'>0.2733</td><td class='upgini-number'>99.7247</td><td class='upgini-text'>0.9445, 1.0953, 0.9544</td><td class='upgini-text'>Training dataset,<a href='https://upgini.com/' target='_blank' rel='noopener noreferrer'>Upgini</a></td><td class='upgini-text'>AutoFE: features from Training dataset,<a href='https://upgini.com/#data_sources' target='_blank' rel='noopener noreferrer'>Markets data</a></td><td class='upgini-text'>Daily</td></tr><tr><td class='upgini-text'>f_autofe_delta_7d_9b21a1d315</td><td class='upgini-number'>0.2726</td><td class='upgini-number'>99.1952</td><td class='upgini-text'>59.0, 95.0, 37.0</td><td class='upgini-text'>Training dataset</td><td class='upgini-text'>AutoFE: features from Training dataset</td><td class='upgini-text'>&nbsp;</td></tr><tr><td class='upgini-text'>f_autofe_roll_2d_norm_mean_b7552e632c</td><td class='upgini-number'>0.2439</td><td class='upgini-number'>83.7128</td><td class='upgini-text'>3.4643, -0.5714, -7.5555</td><td class='upgini-text'>Training dataset,<a href='https://upgini.com/' target='_blank' rel='noopener noreferrer'>Upgini</a></td><td class='upgini-text'>AutoFE: features from Training dataset,<a href='https://upgini.com/#data_sources' target='_blank' rel='noopener noreferrer'>Markets data</a></td><td class='upgini-text'>Daily</td></tr><tr><td class='upgini-text'>f_autofe_lag_7d_a158285546</td><td class='upgini-number'>0.2121</td><td class='upgini-number'>99.1952</td><td class='upgini-text'>0.9683, 0.9951, 0.9726</td><td class='upgini-text'>Training dataset,<a href='https://upgini.com/' target='_blank' rel='noopener noreferrer'>Upgini</a></td><td class='upgini-text'>AutoFE: features from Training dataset,<a href='https://upgini.com/#data_sources' target='_blank' rel='noopener noreferrer'>Markets data</a></td><td class='upgini-text'>Daily</td></tr><tr><td class='upgini-text'>f_autofe_roll_2d_norm_mean_88a20b471e</td><td class='upgini-number'>0.2091</td><td class='upgini-number'>83.9775</td><td class='upgini-text'>-124.3991, 1.6322, -8.9293</td><td class='upgini-text'>Training dataset,<a href='https://upgini.com/' target='_blank' rel='noopener noreferrer'>Upgini</a></td><td class='upgini-text'>AutoFE: features from Training dataset,<a href='https://upgini.com/#data_sources' target='_blank' rel='noopener noreferrer'>Markets data</a></td><td class='upgini-text'>Daily</td></tr><tr><td class='upgini-text'>f_autofe_lag_3d_497740d13d</td><td class='upgini-number'>0.1891</td><td class='upgini-number'>99.5870</td><td class='upgini-text'>0.41, 0.13, 0.48</td><td class='upgini-text'>Training dataset,<a href='https://upgini.com/' target='_blank' rel='noopener noreferrer'>Upgini</a></td><td class='upgini-text'>AutoFE: features from Training dataset,<a href='https://upgini.com/#data_sources' target='_blank' rel='noopener noreferrer'>Markets data</a></td><td class='upgini-text'>Daily</td></tr><tr><td class='upgini-text'>f_autofe_roll_2d_norm_mean_bc7947738c</td><td class='upgini-number'>0.1765</td><td class='upgini-number'>82.7068</td><td class='upgini-text'>0.6535, 1.3953, 5.8666</td><td class='upgini-text'>Training dataset,<a href='https://upgini.com/' target='_blank' rel='noopener noreferrer'>Upgini</a></td><td class='upgini-text'>AutoFE: features from Training dataset,<a href='https://upgini.com/#data_sources' target='_blank' rel='noopener noreferrer'>Markets data</a></td><td class='upgini-text'>Daily</td></tr><tr><td class='upgini-text'><a href='https://docs.upgini.com/public/markets/finance#f_financial_date_usd_7d_to_1y_9cbe7ef8' target='_blank' rel='noopener noreferrer'>f_financial_date_usd_7d_to_1y_9cbe7ef8</a></td><td class='upgini-number'>0.1612</td><td class='upgini-number'>100.0000</td><td class='upgini-text'>0.9495, 1.0093, 0.944</td><td class='upgini-text'><a href='https://upgini.com/' target='_blank' rel='noopener noreferrer'>Upgini</a></td><td class='upgini-text'><a href='https://upgini.com/#data_sources' target='_blank' rel='noopener noreferrer'>Markets data</a></td><td class='upgini-text'>Daily</td></tr><tr><td class='upgini-text'>f_autofe_lag_7d_4a1d9c9dff</td><td class='upgini-number'>0.1591</td><td class='upgini-number'>99.1952</td><td class='upgini-text'>107.0, 129.0, 45.0</td><td class='upgini-text'>Training dataset</td><td class='upgini-text'>AutoFE: features from Training dataset</td><td class='upgini-text'>&nbsp;</td></tr><tr><td class='upgini-text'><a href='https://docs.upgini.com/public/markets/finance#f_financial_date_crude_oil_7d_to_7d_1y_shift_718136ef' target='_blank' rel='noopener noreferrer'>f_financial_date_crude_oil_7d_to_7d_1y_shift_718136ef</a></td><td class='upgini-number'>0.1568</td><td class='upgini-number'>100.0000</td><td class='upgini-text'>1.1506, 0.9844, 1.2121</td><td class='upgini-text'><a href='https://upgini.com/' target='_blank' rel='noopener noreferrer'>Upgini</a></td><td class='upgini-text'><a href='https://upgini.com/#data_sources' target='_blank' rel='noopener noreferrer'>Markets data</a></td><td class='upgini-text'>Daily</td></tr><tr><td class='upgini-text'>f_autofe_roll_2d_std_187b1d1f8a</td><td class='upgini-number'>0.1498</td><td class='upgini-number'>99.8623</td><td class='upgini-text'>0.003, 0.0011, 0.0003</td><td class='upgini-text'>Training dataset,<a href='https://upgini.com/' target='_blank' rel='noopener noreferrer'>Upgini</a></td><td class='upgini-text'>AutoFE: features from Training dataset,<a href='https://upgini.com/#data_sources' target='_blank' rel='noopener noreferrer'>Markets data</a></td><td class='upgini-text'>Daily</td></tr><tr><td class='upgini-text'>f_autofe_lag_7d_5eb2763364</td><td class='upgini-number'>0.1422</td><td class='upgini-number'>99.1952</td><td class='upgini-text'>0.8019, 1.2501, 0.8325</td><td class='upgini-text'>Training dataset,<a href='https://upgini.com/' target='_blank' rel='noopener noreferrer'>Upgini</a></td><td class='upgini-text'>AutoFE: features from Training dataset,<a href='https://upgini.com/#data_sources' target='_blank' rel='noopener noreferrer'>Markets data</a></td><td class='upgini-text'>Daily</td></tr><tr><td class='upgini-text'>f_autofe_roll_3d_median_97804b26e6</td><td class='upgini-number'>0.1369</td><td class='upgini-number'>100.0000</td><td class='upgini-text'>119.0, 22.0, 100.0</td><td class='upgini-text'>Training dataset</td><td class='upgini-text'>AutoFE: features from Training dataset</td><td class='upgini-text'>&nbsp;</td></tr><tr><td class='upgini-text'>f_autofe_lag_7d_8b4b290346</td><td class='upgini-number'>0.1286</td><td class='upgini-number'>99.1952</td><td class='upgini-text'>76.51, 41.5, 43.87</td><td class='upgini-text'>Training dataset,<a href='https://upgini.com/' target='_blank' rel='noopener noreferrer'>Upgini</a></td><td class='upgini-text'>AutoFE: features from Training dataset,<a href='https://upgini.com/#data_sources' target='_blank' rel='noopener noreferrer'>Markets data</a></td><td class='upgini-text'>Daily</td></tr><tr><td class='upgini-text'>f_autofe_roll_7d_std_c9b63bd7b1</td><td class='upgini-number'>0.1249</td><td class='upgini-number'>99.8623</td><td class='upgini-text'>0.0035, 0.0181, 0.0119</td><td class='upgini-text'>Training dataset,<a href='https://upgini.com/' target='_blank' rel='noopener noreferrer'>Upgini</a></td><td class='upgini-text'>AutoFE: features from Training dataset,<a href='https://upgini.com/#data_sources' target='_blank' rel='noopener noreferrer'>Markets data</a></td><td class='upgini-text'>Daily</td></tr><tr><td class='upgini-text'>f_autofe_lag_28d_aaadd46bbb</td><td class='upgini-number'>0.1174</td><td class='upgini-number'>97.1090</td><td class='upgini-text'>107.0, 129.0, 45.0</td><td class='upgini-text'>Training dataset</td><td class='upgini-text'>AutoFE: features from Training dataset</td><td class='upgini-text'>&nbsp;</td></tr><tr><td class='upgini-text'>f_autofe_lag_2d_c4918d0ea0</td><td class='upgini-number'>0.1104</td><td class='upgini-number'>99.7247</td><td class='upgini-text'>12.85, 11.94, 17.08</td><td class='upgini-text'>Training dataset,<a href='https://upgini.com/' target='_blank' rel='noopener noreferrer'>Upgini</a></td><td class='upgini-text'>AutoFE: features from Training dataset,<a href='https://upgini.com/#data_sources' target='_blank' rel='noopener noreferrer'>Markets data</a></td><td class='upgini-text'>Daily</td></tr><tr><td class='upgini-text'><a href='https://docs.upgini.com/public/markets/finance#f_financial_date_silver_7d_to_1y_0ccfe462' target='_blank' rel='noopener noreferrer'>f_financial_date_silver_7d_to_1y_0ccfe462</a></td><td class='upgini-number'>0.1004</td><td class='upgini-number'>100.0000</td><td class='upgini-text'>0.9445, 1.0953, 0.9544</td><td class='upgini-text'><a href='https://upgini.com/' target='_blank' rel='noopener noreferrer'>Upgini</a></td><td class='upgini-text'><a href='https://upgini.com/#data_sources' target='_blank' rel='noopener noreferrer'>Markets data</a></td><td class='upgini-text'>Daily</td></tr><tr><td class='upgini-text'><a href='https://docs.upgini.com/public/calendar/calendar#f_events_date_year_sin2_59955ffd' target='_blank' rel='noopener noreferrer'>f_events_date_year_sin2_59955ffd</a></td><td class='upgini-number'>0.1003</td><td class='upgini-number'>100.0000</td><td class='upgini-text'>-0.6153, 0.3847, -0.1628</td><td class='upgini-text'><a href='https://upgini.com/' target='_blank' rel='noopener noreferrer'>Upgini</a></td><td class='upgini-text'><a href='https://upgini.com/#data_sources' target='_blank' rel='noopener noreferrer'>Calendar data</a></td><td class='upgini-text'>Daily</td></tr><tr><td class='upgini-text'>f_autofe_lag_7d_17939c9a07</td><td class='upgini-number'>0.0992</td><td class='upgini-number'>99.1952</td><td class='upgini-text'>0.8293, 1.2134, 0.8184</td><td class='upgini-text'>Training dataset,<a href='https://upgini.com/' target='_blank' rel='noopener noreferrer'>Upgini</a></td><td class='upgini-text'>AutoFE: features from Training dataset,<a href='https://upgini.com/#data_sources' target='_blank' rel='noopener noreferrer'>Markets data</a></td><td class='upgini-text'>Daily</td></tr><tr><td class='upgini-text'><a href='https://docs.upgini.com/public/markets/finance_umap#f_financial_date_finance_umap_0_3c020a5e' target='_blank' rel='noopener noreferrer'>f_financial_date_finance_umap_0_3c020a5e</a></td><td class='upgini-number'>0.0982</td><td class='upgini-number'>100.0000</td><td class='upgini-text'>9.7171, 10.682, 9.6659</td><td class='upgini-text'><a href='https://upgini.com/' target='_blank' rel='noopener noreferrer'>Upgini</a></td><td class='upgini-text'><a href='https://upgini.com/#data_sources' target='_blank' rel='noopener noreferrer'>Markets data</a></td><td class='upgini-text'>Daily</td></tr><tr><td class='upgini-text'>f_autofe_lag_14d_0da85cf5ba</td><td class='upgini-number'>0.0941</td><td class='upgini-number'>98.4962</td><td class='upgini-text'>107.0, 129.0, 45.0</td><td class='upgini-text'>Training dataset</td><td class='upgini-text'>AutoFE: features from Training dataset</td><td class='upgini-text'>&nbsp;</td></tr><tr><td class='upgini-text'>f_autofe_roll_2d_norm_mean_d3cb397c66</td><td class='upgini-number'>0.0929</td><td class='upgini-number'>79.8475</td><td class='upgini-text'>1.5, 1.2, 20972.0</td><td class='upgini-text'>Training dataset,<a href='https://upgini.com/' target='_blank' rel='noopener noreferrer'>Upgini</a></td><td class='upgini-text'>AutoFE: features from Training dataset,<a href='https://upgini.com/#data_sources' target='_blank' rel='noopener noreferrer'>Markets data</a></td><td class='upgini-text'>Daily</td></tr><tr><td class='upgini-text'>f_autofe_roll_2d_norm_mean_85d150daec</td><td class='upgini-number'>0.0916</td><td class='upgini-number'>82.7385</td><td class='upgini-text'>-0.3636, 1.4453, -2.6882</td><td class='upgini-text'>Training dataset,<a href='https://upgini.com/' target='_blank' rel='noopener noreferrer'>Upgini</a></td><td class='upgini-text'>AutoFE: features from Training dataset,<a href='https://upgini.com/#data_sources' target='_blank' rel='noopener noreferrer'>Markets data</a></td><td class='upgini-text'>Daily</td></tr><tr><td class='upgini-text'>f_autofe_lag_7d_383f2b72f6</td><td class='upgini-number'>0.0891</td><td class='upgini-number'>99.1952</td><td class='upgini-text'>0.9445, 1.0953, 0.9544</td><td class='upgini-text'>Training dataset,<a href='https://upgini.com/' target='_blank' rel='noopener noreferrer'>Upgini</a></td><td class='upgini-text'>AutoFE: features from Training dataset,<a href='https://upgini.com/#data_sources' target='_blank' rel='noopener noreferrer'>Markets data</a></td><td class='upgini-text'>Daily</td></tr><tr><td class='upgini-text'>f_autofe_roll_7d_norm_mean_e25c9053c6</td><td class='upgini-number'>0.0813</td><td class='upgini-number'>100.0000</td><td class='upgini-text'>1.0584, 0.9653, 1.039</td><td class='upgini-text'>Training dataset,<a href='https://upgini.com/' target='_blank' rel='noopener noreferrer'>Upgini</a></td><td class='upgini-text'>AutoFE: features from Training dataset,<a href='https://upgini.com/#data_sources' target='_blank' rel='noopener noreferrer'>Markets data</a></td><td class='upgini-text'>Daily</td></tr><tr><td class='upgini-text'>f_autofe_lag_84d_f82bbe9151</td><td class='upgini-number'>0.0800</td><td class='upgini-number'>90.8186</td><td class='upgini-text'>107.0, 129.0, 45.0</td><td class='upgini-text'>Training dataset</td><td class='upgini-text'>AutoFE: features from Training dataset</td><td class='upgini-text'>&nbsp;</td></tr></tbody></table>\n",
              "        </div>\n",
              "        "
            ]
          },
          "metadata": {}
        },
        {
          "output_type": "display_data",
          "data": {
            "text/plain": [
              "<IPython.core.display.HTML object>"
            ],
            "text/html": [
              "<style>\n",
              "            .upgini-df thead th {\n",
              "                font-weight:bold;\n",
              "                text-align: center;\n",
              "                padding: 0.5em;\n",
              "                border-bottom: 2px solid black;\n",
              "            }\n",
              "\n",
              "            .upgini-df tbody td {\n",
              "                padding: 0.5em;\n",
              "                color: black;\n",
              "            }\n",
              "\n",
              "            .upgini-df tbody tr:nth-child(odd) {\n",
              "                background-color: #ffffff;\n",
              "            }\n",
              "\n",
              "            .upgini-df tbody tr:nth-child(even) {\n",
              "                background-color: #f2f2f2;\n",
              "            }\n",
              "\n",
              "            .upgini-text {\n",
              "                text-align: left;\n",
              "            }\n",
              "\n",
              "            .upgini-number {\n",
              "                text-align: center;\n",
              "            }\n",
              "        </style>\n",
              "        <h2>Relevant data sources</h2>\n",
              "        <div style=\"display:flex; flex-direction:column; align-items:flex-end; width: fit-content;\">\n",
              "            \n",
              "            <div style=\"text-align: right\">\n",
              "                <button onclick=navigator.clipboard.writeText(decodeURI('Provider%09Source%09All%20features%20SHAP%09Number%20of%20relevant%20features%0AUpgini%09Calendar%20data%095.8584%095%0ATraining%20dataset,%20Upgini%09AutoFE%3A%20features%20from%20Training%20dataset,%3Ca%20href%3D%27https%3A%2F%2Fupgini.com%2F%23data_sources%27%20target%3D%27_blank%27%20rel%3D%27noopener%20noreferrer%27%3EMarkets%20data%3C%2Fa%3E%093.1387%0918%0ATraining%20dataset%09AutoFE%3A%20features%20from%20Training%20dataset%092.783%0910%0ATraining%20dataset,%20Upgini%09AutoFE%3A%20features%20from%20Training%20dataset,%3Ca%20href%3D%27https%3A%2F%2Fupgini.com%2F%23data_sources%27%20target%3D%27_blank%27%20rel%3D%27noopener%20noreferrer%27%3ECalendar%20data%3C%2Fa%3E%092.5447%092%0AUpgini%09Markets%20data%091.8014999999999999%095%0AUpgini%09World%20economic%20indicators%090.8817999999999999%092%0A'))>📂 Copy</button>\n",
              "                <a href='mailto:<Share with...>?subject=Relevant external data sources from Upgini.com&body=Provider%09Source%09All%20features%20SHAP%09Number%20of%20relevant%20features%0AUpgini%09Calendar%20data%095.8584%095%0ATraining%20dataset,%20Upgini%09AutoFE%3A%20features%20from%20Training%20dataset,%3Ca%20href%3D%27https%3A%2F%2Fupgini.com%2F%23data_sources%27%20target%3D%27_blank%27%20rel%3D%27noopener%20noreferrer%27%3EMarkets%20data%3C%2Fa%3E%093.1387%0918%0ATraining%20dataset%09AutoFE%3A%20features%20from%20Training%20dataset%092.783%0910%0ATraining%20dataset,%20Upgini%09AutoFE%3A%20features%20from%20Training%20dataset,%3Ca%20href%3D%27https%3A%2F%2Fupgini.com%2F%23data_sources%27%20target%3D%27_blank%27%20rel%3D%27noopener%20noreferrer%27%3ECalendar%20data%3C%2Fa%3E%092.5447%092%0AUpgini%09Markets%20data%091.8014999999999999%095%0AUpgini%09World%20economic%20indicators%090.8817999999999999%092%0A'>\n",
              "                    <button>📨 Share</button>\n",
              "                </a>\n",
              "            </div>\n",
              "            <table class='upgini-df'><thead><th>Provider</th><th>Source</th><th>All features SHAP</th><th>Number of relevant features</th></thead><tbody><tr><td class='upgini-text'><a href='https://upgini.com/' target='_blank' rel='noopener noreferrer'>Upgini</a></td><td class='upgini-text'><a href='https://upgini.com/#data_sources' target='_blank' rel='noopener noreferrer'>Calendar data</a></td><td class='upgini-number'>5.8584</td><td class='upgini-number'>5</td></tr><tr><td class='upgini-text'>Training dataset,<a href='https://upgini.com/' target='_blank' rel='noopener noreferrer'>Upgini</a></td><td class='upgini-text'>AutoFE: features from Training dataset,<a href='https://upgini.com/#data_sources' target='_blank' rel='noopener noreferrer'>Markets data</a></td><td class='upgini-number'>3.1387</td><td class='upgini-number'>18</td></tr><tr><td class='upgini-text'>Training dataset</td><td class='upgini-text'>AutoFE: features from Training dataset</td><td class='upgini-number'>2.7830</td><td class='upgini-number'>10</td></tr><tr><td class='upgini-text'>Training dataset,<a href='https://upgini.com/' target='_blank' rel='noopener noreferrer'>Upgini</a></td><td class='upgini-text'>AutoFE: features from Training dataset,<a href='https://upgini.com/#data_sources' target='_blank' rel='noopener noreferrer'>Calendar data</a></td><td class='upgini-number'>2.5447</td><td class='upgini-number'>2</td></tr><tr><td class='upgini-text'><a href='https://upgini.com/' target='_blank' rel='noopener noreferrer'>Upgini</a></td><td class='upgini-text'><a href='https://upgini.com/#data_sources' target='_blank' rel='noopener noreferrer'>Markets data</a></td><td class='upgini-number'>1.8015</td><td class='upgini-number'>5</td></tr><tr><td class='upgini-text'><a href='https://upgini.com/' target='_blank' rel='noopener noreferrer'>Upgini</a></td><td class='upgini-text'><a href='https://upgini.com/#data_sources' target='_blank' rel='noopener noreferrer'>World economic indicators</a></td><td class='upgini-number'>0.8818</td><td class='upgini-number'>2</td></tr></tbody></table>\n",
              "        </div>\n",
              "        "
            ]
          },
          "metadata": {}
        },
        {
          "output_type": "display_data",
          "data": {
            "text/plain": [
              "<IPython.core.display.HTML object>"
            ],
            "text/html": [
              "<style>\n",
              "            .upgini-df thead th {\n",
              "                font-weight:bold;\n",
              "                text-align: center;\n",
              "                padding: 0.5em;\n",
              "                border-bottom: 2px solid black;\n",
              "            }\n",
              "\n",
              "            .upgini-df tbody td {\n",
              "                padding: 0.5em;\n",
              "                color: black;\n",
              "            }\n",
              "\n",
              "            .upgini-df tbody tr:nth-child(odd) {\n",
              "                background-color: #ffffff;\n",
              "            }\n",
              "\n",
              "            .upgini-df tbody tr:nth-child(even) {\n",
              "                background-color: #f2f2f2;\n",
              "            }\n",
              "\n",
              "            .upgini-text {\n",
              "                text-align: left;\n",
              "            }\n",
              "\n",
              "            .upgini-number {\n",
              "                text-align: center;\n",
              "            }\n",
              "        </style>\n",
              "        <h2>*Description of AutoFE feature names</h2>\n",
              "        <div style=\"display:flex; flex-direction:column; align-items:flex-end; width: fit-content;\">\n",
              "            \n",
              "            <div style=\"text-align: right\">\n",
              "                <button onclick=navigator.clipboard.writeText(decodeURI('Sources%09Feature%20name%09Feature%201%09Function%0ATraining%20dataset,%3Ca%20href%3D%27https%3A%2F%2Fupgini.com%2F%23data_sources%27%20target%3D%27_blank%27%20rel%3D%27noopener%20noreferrer%27%3ECalendar%20data%3C%2Fa%3E%09f_autofe_roll_3d_min_1a2ad6d8bb%09f_events_date_year_cos1_9014a856%09roll_3d_min%0ATraining%20dataset,%3Ca%20href%3D%27https%3A%2F%2Fupgini.com%2F%23data_sources%27%20target%3D%27_blank%27%20rel%3D%27noopener%20noreferrer%27%3ECalendar%20data%3C%2Fa%3E%09f_autofe_roll_3d_median_8e12f1e1e9%09f_events_date_year_cos1_9014a856%09roll_3d_median%0ATraining%20dataset%09f_autofe_roll_3d_q75_927f52faea%09target%09roll_3d_q75%0ATraining%20dataset%09f_autofe_roll_7d_median_e8edff6d9a%09target%09roll_7d_median%0ATraining%20dataset%09f_autofe_roll_3d_max_946bf6086b%09target%09roll_3d_max%0ATraining%20dataset,%3Ca%20href%3D%27https%3A%2F%2Fupgini.com%2F%23data_sources%27%20target%3D%27_blank%27%20rel%3D%27noopener%20noreferrer%27%3EMarkets%20data%3C%2Fa%3E%09f_autofe_roll_2d_norm_mean_f28c29d7cf%09f_financial_date_vix_daydiff_02dc2726%09roll_2d_norm_mean%0ATraining%20dataset%09f_autofe_roll_7d_max_f49b75b311%09target%09roll_7d_max%0ATraining%20dataset,%3Ca%20href%3D%27https%3A%2F%2Fupgini.com%2F%23data_sources%27%20target%3D%27_blank%27%20rel%3D%27noopener%20noreferrer%27%3EMarkets%20data%3C%2Fa%3E%09f_autofe_roll_2d_std_eb944d44c9%09f_financial_date_vix_daydiff_02dc2726%09roll_2d_std%0ATraining%20dataset,%3Ca%20href%3D%27https%3A%2F%2Fupgini.com%2F%23data_sources%27%20target%3D%27_blank%27%20rel%3D%27noopener%20noreferrer%27%3EMarkets%20data%3C%2Fa%3E%09f_autofe_lag_2d_82f0cadd32%09f_financial_date_silver_7d_to_1y_0ccfe462%09lag_2d%0ATraining%20dataset%09f_autofe_delta_7d_9b21a1d315%09target%09delta_7d%0ATraining%20dataset,%3Ca%20href%3D%27https%3A%2F%2Fupgini.com%2F%23data_sources%27%20target%3D%27_blank%27%20rel%3D%27noopener%20noreferrer%27%3EMarkets%20data%3C%2Fa%3E%09f_autofe_roll_2d_norm_mean_b7552e632c%09f_financial_date_vix_gap_b64bd2b9%09roll_2d_norm_mean%0ATraining%20dataset,%3Ca%20href%3D%27https%3A%2F%2Fupgini.com%2F%23data_sources%27%20target%3D%27_blank%27%20rel%3D%27noopener%20noreferrer%27%3EMarkets%20data%3C%2Fa%3E%09f_autofe_lag_7d_a158285546%09f_financial_date_usd_7d_to_7d_1y_shift_35cb53e9%09lag_7d%0ATraining%20dataset,%3Ca%20href%3D%27https%3A%2F%2Fupgini.com%2F%23data_sources%27%20target%3D%27_blank%27%20rel%3D%27noopener%20noreferrer%27%3EMarkets%20data%3C%2Fa%3E%09f_autofe_roll_2d_norm_mean_88a20b471e%09f_financial_date_nasdaq_gap_83732bb1%09roll_2d_norm_mean%0ATraining%20dataset,%3Ca%20href%3D%27https%3A%2F%2Fupgini.com%2F%23data_sources%27%20target%3D%27_blank%27%20rel%3D%27noopener%20noreferrer%27%3EMarkets%20data%3C%2Fa%3E%09f_autofe_lag_3d_497740d13d%09f_financial_date_usd_gap_615a0ec0%09lag_3d%0ATraining%20dataset,%3Ca%20href%3D%27https%3A%2F%2Fupgini.com%2F%23data_sources%27%20target%3D%27_blank%27%20rel%3D%27noopener%20noreferrer%27%3EMarkets%20data%3C%2Fa%3E%09f_autofe_roll_2d_norm_mean_bc7947738c%09f_financial_date_natural_gas_gap_a2b03e85%09roll_2d_norm_mean%0ATraining%20dataset%09f_autofe_lag_7d_4a1d9c9dff%09target%09lag_7d%0ATraining%20dataset,%3Ca%20href%3D%27https%3A%2F%2Fupgini.com%2F%23data_sources%27%20target%3D%27_blank%27%20rel%3D%27noopener%20noreferrer%27%3EMarkets%20data%3C%2Fa%3E%09f_autofe_roll_2d_std_187b1d1f8a%09f_financial_date_usd_eur_1d_to_7d_d8b89b5d%09roll_2d_std%0ATraining%20dataset,%3Ca%20href%3D%27https%3A%2F%2Fupgini.com%2F%23data_sources%27%20target%3D%27_blank%27%20rel%3D%27noopener%20noreferrer%27%3EMarkets%20data%3C%2Fa%3E%09f_autofe_lag_7d_5eb2763364%09f_financial_date_vix_7d_to_1y_634c77eb%09lag_7d%0ATraining%20dataset%09f_autofe_roll_3d_median_97804b26e6%09target%09roll_3d_median%0ATraining%20dataset,%3Ca%20href%3D%27https%3A%2F%2Fupgini.com%2F%23data_sources%27%20target%3D%27_blank%27%20rel%3D%27noopener%20noreferrer%27%3EMarkets%20data%3C%2Fa%3E%09f_autofe_lag_7d_8b4b290346%09f_financial_date_crude_oil_1f195998%09lag_7d%0ATraining%20dataset,%3Ca%20href%3D%27https%3A%2F%2Fupgini.com%2F%23data_sources%27%20target%3D%27_blank%27%20rel%3D%27noopener%20noreferrer%27%3EMarkets%20data%3C%2Fa%3E%09f_autofe_roll_7d_std_c9b63bd7b1%09f_financial_date_silver_1d_to_7d_f35d6e93%09roll_7d_std%0ATraining%20dataset%09f_autofe_lag_28d_aaadd46bbb%09target%09lag_28d%0ATraining%20dataset,%3Ca%20href%3D%27https%3A%2F%2Fupgini.com%2F%23data_sources%27%20target%3D%27_blank%27%20rel%3D%27noopener%20noreferrer%27%3EMarkets%20data%3C%2Fa%3E%09f_autofe_lag_2d_c4918d0ea0%09f_financial_date_vix_6c8e6194%09lag_2d%0ATraining%20dataset,%3Ca%20href%3D%27https%3A%2F%2Fupgini.com%2F%23data_sources%27%20target%3D%27_blank%27%20rel%3D%27noopener%20noreferrer%27%3EMarkets%20data%3C%2Fa%3E%09f_autofe_lag_7d_17939c9a07%09f_financial_date_silver_7d_to_7d_1y_shift_55fa8001%09lag_7d%0ATraining%20dataset%09f_autofe_lag_14d_0da85cf5ba%09target%09lag_14d%0ATraining%20dataset,%3Ca%20href%3D%27https%3A%2F%2Fupgini.com%2F%23data_sources%27%20target%3D%27_blank%27%20rel%3D%27noopener%20noreferrer%27%3EMarkets%20data%3C%2Fa%3E%09f_autofe_roll_2d_norm_mean_d3cb397c66%09f_financial_date_usd_gap_615a0ec0%09roll_2d_norm_mean%0ATraining%20dataset,%3Ca%20href%3D%27https%3A%2F%2Fupgini.com%2F%23data_sources%27%20target%3D%27_blank%27%20rel%3D%27noopener%20noreferrer%27%3EMarkets%20data%3C%2Fa%3E%09f_autofe_roll_2d_norm_mean_85d150daec%09f_financial_date_gold_daydiff_6c8f15fb%09roll_2d_norm_mean%0ATraining%20dataset,%3Ca%20href%3D%27https%3A%2F%2Fupgini.com%2F%23data_sources%27%20target%3D%27_blank%27%20rel%3D%27noopener%20noreferrer%27%3EMarkets%20data%3C%2Fa%3E%09f_autofe_lag_7d_383f2b72f6%09f_financial_date_silver_7d_to_1y_0ccfe462%09lag_7d%0ATraining%20dataset,%3Ca%20href%3D%27https%3A%2F%2Fupgini.com%2F%23data_sources%27%20target%3D%27_blank%27%20rel%3D%27noopener%20noreferrer%27%3EMarkets%20data%3C%2Fa%3E%09f_autofe_roll_7d_norm_mean_e25c9053c6%09f_financial_date_crude_oil_7d_to_7d_1y_shift_718136ef%09roll_7d_norm_mean%0ATraining%20dataset%09f_autofe_lag_84d_f82bbe9151%09target%09lag_84d%0A'))>📂 Copy</button>\n",
              "                <a href='mailto:<Share with...>?subject=Relevant external data sources from Upgini.com&body=Sources%09Feature%20name%09Feature%201%09Function%0ATraining%20dataset,%3Ca%20href%3D%27https%3A%2F%2Fupgini.com%2F%23data_sources%27%20target%3D%27_blank%27%20rel%3D%27noopener%20noreferrer%27%3ECalendar%20data%3C%2Fa%3E%09f_autofe_roll_3d_min_1a2ad6d8bb%09f_events_date_year_cos1_9014a856%09roll_3d_min%0ATraining%20dataset,%3Ca%20href%3D%27https%3A%2F%2Fupgini.com%2F%23data_sources%27%20target%3D%27_blank%27%20rel%3D%27noopener%20noreferrer%27%3ECalendar%20data%3C%2Fa%3E%09f_autofe_roll_3d_median_8e12f1e1e9%09f_events_date_year_cos1_9014a856%09roll_3d_median%0ATraining%20dataset%09f_autofe_roll_3d_q75_927f52faea%09target%09roll_3d_q75%0ATraining%20dataset%09f_autofe_roll_7d_median_e8edff6d9a%09target%09roll_7d_median%0ATraining%20dataset%09f_autofe_roll_3d_max_946bf6086b%09target%09roll_3d_max%0ATraining%20dataset,%3Ca%20href%3D%27https%3A%2F%2Fupgini.com%2F%23data_sources%27%20target%3D%27_blank%27%20rel%3D%27noopener%20noreferrer%27%3EMarkets%20data%3C%2Fa%3E%09f_autofe_roll_2d_norm_mean_f28c29d7cf%09f_financial_date_vix_daydiff_02dc2726%09roll_2d_norm_mean%0ATraining%20dataset%09f_autofe_roll_7d_max_f49b75b311%09target%09roll_7d_max%0ATraining%20dataset,%3Ca%20href%3D%27https%3A%2F%2Fupgini.com%2F%23data_sources%27%20target%3D%27_blank%27%20rel%3D%27noopener%20noreferrer%27%3EMarkets%20data%3C%2Fa%3E%09f_autofe_roll_2d_std_eb944d44c9%09f_financial_date_vix_daydiff_02dc2726%09roll_2d_std%0ATraining%20dataset,%3Ca%20href%3D%27https%3A%2F%2Fupgini.com%2F%23data_sources%27%20target%3D%27_blank%27%20rel%3D%27noopener%20noreferrer%27%3EMarkets%20data%3C%2Fa%3E%09f_autofe_lag_2d_82f0cadd32%09f_financial_date_silver_7d_to_1y_0ccfe462%09lag_2d%0ATraining%20dataset%09f_autofe_delta_7d_9b21a1d315%09target%09delta_7d%0ATraining%20dataset,%3Ca%20href%3D%27https%3A%2F%2Fupgini.com%2F%23data_sources%27%20target%3D%27_blank%27%20rel%3D%27noopener%20noreferrer%27%3EMarkets%20data%3C%2Fa%3E%09f_autofe_roll_2d_norm_mean_b7552e632c%09f_financial_date_vix_gap_b64bd2b9%09roll_2d_norm_mean%0ATraining%20dataset,%3Ca%20href%3D%27https%3A%2F%2Fupgini.com%2F%23data_sources%27%20target%3D%27_blank%27%20rel%3D%27noopener%20noreferrer%27%3EMarkets%20data%3C%2Fa%3E%09f_autofe_lag_7d_a158285546%09f_financial_date_usd_7d_to_7d_1y_shift_35cb53e9%09lag_7d%0ATraining%20dataset,%3Ca%20href%3D%27https%3A%2F%2Fupgini.com%2F%23data_sources%27%20target%3D%27_blank%27%20rel%3D%27noopener%20noreferrer%27%3EMarkets%20data%3C%2Fa%3E%09f_autofe_roll_2d_norm_mean_88a20b471e%09f_financial_date_nasdaq_gap_83732bb1%09roll_2d_norm_mean%0ATraining%20dataset,%3Ca%20href%3D%27https%3A%2F%2Fupgini.com%2F%23data_sources%27%20target%3D%27_blank%27%20rel%3D%27noopener%20noreferrer%27%3EMarkets%20data%3C%2Fa%3E%09f_autofe_lag_3d_497740d13d%09f_financial_date_usd_gap_615a0ec0%09lag_3d%0ATraining%20dataset,%3Ca%20href%3D%27https%3A%2F%2Fupgini.com%2F%23data_sources%27%20target%3D%27_blank%27%20rel%3D%27noopener%20noreferrer%27%3EMarkets%20data%3C%2Fa%3E%09f_autofe_roll_2d_norm_mean_bc7947738c%09f_financial_date_natural_gas_gap_a2b03e85%09roll_2d_norm_mean%0ATraining%20dataset%09f_autofe_lag_7d_4a1d9c9dff%09target%09lag_7d%0ATraining%20dataset,%3Ca%20href%3D%27https%3A%2F%2Fupgini.com%2F%23data_sources%27%20target%3D%27_blank%27%20rel%3D%27noopener%20noreferrer%27%3EMarkets%20data%3C%2Fa%3E%09f_autofe_roll_2d_std_187b1d1f8a%09f_financial_date_usd_eur_1d_to_7d_d8b89b5d%09roll_2d_std%0ATraining%20dataset,%3Ca%20href%3D%27https%3A%2F%2Fupgini.com%2F%23data_sources%27%20target%3D%27_blank%27%20rel%3D%27noopener%20noreferrer%27%3EMarkets%20data%3C%2Fa%3E%09f_autofe_lag_7d_5eb2763364%09f_financial_date_vix_7d_to_1y_634c77eb%09lag_7d%0ATraining%20dataset%09f_autofe_roll_3d_median_97804b26e6%09target%09roll_3d_median%0ATraining%20dataset,%3Ca%20href%3D%27https%3A%2F%2Fupgini.com%2F%23data_sources%27%20target%3D%27_blank%27%20rel%3D%27noopener%20noreferrer%27%3EMarkets%20data%3C%2Fa%3E%09f_autofe_lag_7d_8b4b290346%09f_financial_date_crude_oil_1f195998%09lag_7d%0ATraining%20dataset,%3Ca%20href%3D%27https%3A%2F%2Fupgini.com%2F%23data_sources%27%20target%3D%27_blank%27%20rel%3D%27noopener%20noreferrer%27%3EMarkets%20data%3C%2Fa%3E%09f_autofe_roll_7d_std_c9b63bd7b1%09f_financial_date_silver_1d_to_7d_f35d6e93%09roll_7d_std%0ATraining%20dataset%09f_autofe_lag_28d_aaadd46bbb%09target%09lag_28d%0ATraining%20dataset,%3Ca%20href%3D%27https%3A%2F%2Fupgini.com%2F%23data_sources%27%20target%3D%27_blank%27%20rel%3D%27noopener%20noreferrer%27%3EMarkets%20data%3C%2Fa%3E%09f_autofe_lag_2d_c4918d0ea0%09f_financial_date_vix_6c8e6194%09lag_2d%0ATraining%20dataset,%3Ca%20href%3D%27https%3A%2F%2Fupgini.com%2F%23data_sources%27%20target%3D%27_blank%27%20rel%3D%27noopener%20noreferrer%27%3EMarkets%20data%3C%2Fa%3E%09f_autofe_lag_7d_17939c9a07%09f_financial_date_silver_7d_to_7d_1y_shift_55fa8001%09lag_7d%0ATraining%20dataset%09f_autofe_lag_14d_0da85cf5ba%09target%09lag_14d%0ATraining%20dataset,%3Ca%20href%3D%27https%3A%2F%2Fupgini.com%2F%23data_sources%27%20target%3D%27_blank%27%20rel%3D%27noopener%20noreferrer%27%3EMarkets%20data%3C%2Fa%3E%09f_autofe_roll_2d_norm_mean_d3cb397c66%09f_financial_date_usd_gap_615a0ec0%09roll_2d_norm_mean%0ATraining%20dataset,%3Ca%20href%3D%27https%3A%2F%2Fupgini.com%2F%23data_sources%27%20target%3D%27_blank%27%20rel%3D%27noopener%20noreferrer%27%3EMarkets%20data%3C%2Fa%3E%09f_autofe_roll_2d_norm_mean_85d150daec%09f_financial_date_gold_daydiff_6c8f15fb%09roll_2d_norm_mean%0ATraining%20dataset,%3Ca%20href%3D%27https%3A%2F%2Fupgini.com%2F%23data_sources%27%20target%3D%27_blank%27%20rel%3D%27noopener%20noreferrer%27%3EMarkets%20data%3C%2Fa%3E%09f_autofe_lag_7d_383f2b72f6%09f_financial_date_silver_7d_to_1y_0ccfe462%09lag_7d%0ATraining%20dataset,%3Ca%20href%3D%27https%3A%2F%2Fupgini.com%2F%23data_sources%27%20target%3D%27_blank%27%20rel%3D%27noopener%20noreferrer%27%3EMarkets%20data%3C%2Fa%3E%09f_autofe_roll_7d_norm_mean_e25c9053c6%09f_financial_date_crude_oil_7d_to_7d_1y_shift_718136ef%09roll_7d_norm_mean%0ATraining%20dataset%09f_autofe_lag_84d_f82bbe9151%09target%09lag_84d%0A'>\n",
              "                    <button>📨 Share</button>\n",
              "                </a>\n",
              "            </div>\n",
              "            <table class='upgini-df'><thead><th>Sources</th><th>Feature name</th><th>Feature 1</th><th>Function</th></thead><tbody><tr><td class='upgini-text'>Training dataset,<a href='https://upgini.com/#data_sources' target='_blank' rel='noopener noreferrer'>Calendar data</a></td><td class='upgini-text'>f_autofe_roll_3d_min_1a2ad6d8bb</td><td class='upgini-text'>f_events_date_year_cos1_9014a856</td><td class='upgini-text'>roll_3d_min</td></tr><tr><td class='upgini-text'>Training dataset,<a href='https://upgini.com/#data_sources' target='_blank' rel='noopener noreferrer'>Calendar data</a></td><td class='upgini-text'>f_autofe_roll_3d_median_8e12f1e1e9</td><td class='upgini-text'>f_events_date_year_cos1_9014a856</td><td class='upgini-text'>roll_3d_median</td></tr><tr><td class='upgini-text'>Training dataset</td><td class='upgini-text'>f_autofe_roll_3d_q75_927f52faea</td><td class='upgini-text'>target</td><td class='upgini-text'>roll_3d_q75</td></tr><tr><td class='upgini-text'>Training dataset</td><td class='upgini-text'>f_autofe_roll_7d_median_e8edff6d9a</td><td class='upgini-text'>target</td><td class='upgini-text'>roll_7d_median</td></tr><tr><td class='upgini-text'>Training dataset</td><td class='upgini-text'>f_autofe_roll_3d_max_946bf6086b</td><td class='upgini-text'>target</td><td class='upgini-text'>roll_3d_max</td></tr><tr><td class='upgini-text'>Training dataset,<a href='https://upgini.com/#data_sources' target='_blank' rel='noopener noreferrer'>Markets data</a></td><td class='upgini-text'>f_autofe_roll_2d_norm_mean_f28c29d7cf</td><td class='upgini-text'>f_financial_date_vix_daydiff_02dc2726</td><td class='upgini-text'>roll_2d_norm_mean</td></tr><tr><td class='upgini-text'>Training dataset</td><td class='upgini-text'>f_autofe_roll_7d_max_f49b75b311</td><td class='upgini-text'>target</td><td class='upgini-text'>roll_7d_max</td></tr><tr><td class='upgini-text'>Training dataset,<a href='https://upgini.com/#data_sources' target='_blank' rel='noopener noreferrer'>Markets data</a></td><td class='upgini-text'>f_autofe_roll_2d_std_eb944d44c9</td><td class='upgini-text'>f_financial_date_vix_daydiff_02dc2726</td><td class='upgini-text'>roll_2d_std</td></tr><tr><td class='upgini-text'>Training dataset,<a href='https://upgini.com/#data_sources' target='_blank' rel='noopener noreferrer'>Markets data</a></td><td class='upgini-text'>f_autofe_lag_2d_82f0cadd32</td><td class='upgini-text'>f_financial_date_silver_7d_to_1y_0ccfe462</td><td class='upgini-text'>lag_2d</td></tr><tr><td class='upgini-text'>Training dataset</td><td class='upgini-text'>f_autofe_delta_7d_9b21a1d315</td><td class='upgini-text'>target</td><td class='upgini-text'>delta_7d</td></tr><tr><td class='upgini-text'>Training dataset,<a href='https://upgini.com/#data_sources' target='_blank' rel='noopener noreferrer'>Markets data</a></td><td class='upgini-text'>f_autofe_roll_2d_norm_mean_b7552e632c</td><td class='upgini-text'>f_financial_date_vix_gap_b64bd2b9</td><td class='upgini-text'>roll_2d_norm_mean</td></tr><tr><td class='upgini-text'>Training dataset,<a href='https://upgini.com/#data_sources' target='_blank' rel='noopener noreferrer'>Markets data</a></td><td class='upgini-text'>f_autofe_lag_7d_a158285546</td><td class='upgini-text'>f_financial_date_usd_7d_to_7d_1y_shift_35cb53e9</td><td class='upgini-text'>lag_7d</td></tr><tr><td class='upgini-text'>Training dataset,<a href='https://upgini.com/#data_sources' target='_blank' rel='noopener noreferrer'>Markets data</a></td><td class='upgini-text'>f_autofe_roll_2d_norm_mean_88a20b471e</td><td class='upgini-text'>f_financial_date_nasdaq_gap_83732bb1</td><td class='upgini-text'>roll_2d_norm_mean</td></tr><tr><td class='upgini-text'>Training dataset,<a href='https://upgini.com/#data_sources' target='_blank' rel='noopener noreferrer'>Markets data</a></td><td class='upgini-text'>f_autofe_lag_3d_497740d13d</td><td class='upgini-text'>f_financial_date_usd_gap_615a0ec0</td><td class='upgini-text'>lag_3d</td></tr><tr><td class='upgini-text'>Training dataset,<a href='https://upgini.com/#data_sources' target='_blank' rel='noopener noreferrer'>Markets data</a></td><td class='upgini-text'>f_autofe_roll_2d_norm_mean_bc7947738c</td><td class='upgini-text'>f_financial_date_natural_gas_gap_a2b03e85</td><td class='upgini-text'>roll_2d_norm_mean</td></tr><tr><td class='upgini-text'>Training dataset</td><td class='upgini-text'>f_autofe_lag_7d_4a1d9c9dff</td><td class='upgini-text'>target</td><td class='upgini-text'>lag_7d</td></tr><tr><td class='upgini-text'>Training dataset,<a href='https://upgini.com/#data_sources' target='_blank' rel='noopener noreferrer'>Markets data</a></td><td class='upgini-text'>f_autofe_roll_2d_std_187b1d1f8a</td><td class='upgini-text'>f_financial_date_usd_eur_1d_to_7d_d8b89b5d</td><td class='upgini-text'>roll_2d_std</td></tr><tr><td class='upgini-text'>Training dataset,<a href='https://upgini.com/#data_sources' target='_blank' rel='noopener noreferrer'>Markets data</a></td><td class='upgini-text'>f_autofe_lag_7d_5eb2763364</td><td class='upgini-text'>f_financial_date_vix_7d_to_1y_634c77eb</td><td class='upgini-text'>lag_7d</td></tr><tr><td class='upgini-text'>Training dataset</td><td class='upgini-text'>f_autofe_roll_3d_median_97804b26e6</td><td class='upgini-text'>target</td><td class='upgini-text'>roll_3d_median</td></tr><tr><td class='upgini-text'>Training dataset,<a href='https://upgini.com/#data_sources' target='_blank' rel='noopener noreferrer'>Markets data</a></td><td class='upgini-text'>f_autofe_lag_7d_8b4b290346</td><td class='upgini-text'>f_financial_date_crude_oil_1f195998</td><td class='upgini-text'>lag_7d</td></tr><tr><td class='upgini-text'>Training dataset,<a href='https://upgini.com/#data_sources' target='_blank' rel='noopener noreferrer'>Markets data</a></td><td class='upgini-text'>f_autofe_roll_7d_std_c9b63bd7b1</td><td class='upgini-text'>f_financial_date_silver_1d_to_7d_f35d6e93</td><td class='upgini-text'>roll_7d_std</td></tr><tr><td class='upgini-text'>Training dataset</td><td class='upgini-text'>f_autofe_lag_28d_aaadd46bbb</td><td class='upgini-text'>target</td><td class='upgini-text'>lag_28d</td></tr><tr><td class='upgini-text'>Training dataset,<a href='https://upgini.com/#data_sources' target='_blank' rel='noopener noreferrer'>Markets data</a></td><td class='upgini-text'>f_autofe_lag_2d_c4918d0ea0</td><td class='upgini-text'>f_financial_date_vix_6c8e6194</td><td class='upgini-text'>lag_2d</td></tr><tr><td class='upgini-text'>Training dataset,<a href='https://upgini.com/#data_sources' target='_blank' rel='noopener noreferrer'>Markets data</a></td><td class='upgini-text'>f_autofe_lag_7d_17939c9a07</td><td class='upgini-text'>f_financial_date_silver_7d_to_7d_1y_shift_55fa8001</td><td class='upgini-text'>lag_7d</td></tr><tr><td class='upgini-text'>Training dataset</td><td class='upgini-text'>f_autofe_lag_14d_0da85cf5ba</td><td class='upgini-text'>target</td><td class='upgini-text'>lag_14d</td></tr><tr><td class='upgini-text'>Training dataset,<a href='https://upgini.com/#data_sources' target='_blank' rel='noopener noreferrer'>Markets data</a></td><td class='upgini-text'>f_autofe_roll_2d_norm_mean_d3cb397c66</td><td class='upgini-text'>f_financial_date_usd_gap_615a0ec0</td><td class='upgini-text'>roll_2d_norm_mean</td></tr><tr><td class='upgini-text'>Training dataset,<a href='https://upgini.com/#data_sources' target='_blank' rel='noopener noreferrer'>Markets data</a></td><td class='upgini-text'>f_autofe_roll_2d_norm_mean_85d150daec</td><td class='upgini-text'>f_financial_date_gold_daydiff_6c8f15fb</td><td class='upgini-text'>roll_2d_norm_mean</td></tr><tr><td class='upgini-text'>Training dataset,<a href='https://upgini.com/#data_sources' target='_blank' rel='noopener noreferrer'>Markets data</a></td><td class='upgini-text'>f_autofe_lag_7d_383f2b72f6</td><td class='upgini-text'>f_financial_date_silver_7d_to_1y_0ccfe462</td><td class='upgini-text'>lag_7d</td></tr><tr><td class='upgini-text'>Training dataset,<a href='https://upgini.com/#data_sources' target='_blank' rel='noopener noreferrer'>Markets data</a></td><td class='upgini-text'>f_autofe_roll_7d_norm_mean_e25c9053c6</td><td class='upgini-text'>f_financial_date_crude_oil_7d_to_7d_1y_shift_718136ef</td><td class='upgini-text'>roll_7d_norm_mean</td></tr><tr><td class='upgini-text'>Training dataset</td><td class='upgini-text'>f_autofe_lag_84d_f82bbe9151</td><td class='upgini-text'>target</td><td class='upgini-text'>lag_84d</td></tr></tbody></table>\n",
              "        </div>\n",
              "        "
            ]
          },
          "metadata": {}
        },
        {
          "output_type": "stream",
          "name": "stdout",
          "text": [
            "We detected 48 outliers in your sample.\n",
            "Examples of outliers with maximum value of target:\n",
            "33    205\n",
            "17    196\n",
            "12    187\n",
            "Name: target, dtype: int64\n",
            "Outliers will be excluded during the metrics calculation.\n",
            "Calculating accuracy uplift after enrichment...\n",
            "y distributions from the training sample and eval_set differ according to the Kolmogorov-Smirnov test,\n",
            "which makes metrics between the train and eval_set incomparable.\n"
          ]
        },
        {
          "output_type": "display_data",
          "data": {
            "text/plain": [
              "<IPython.core.display.HTML object>"
            ],
            "text/html": [
              "<style>\n",
              "            .upgini-df thead th {\n",
              "                font-weight:bold;\n",
              "                text-align: center;\n",
              "                padding: 0.5em;\n",
              "                border-bottom: 2px solid black;\n",
              "            }\n",
              "\n",
              "            .upgini-df tbody td {\n",
              "                padding: 0.5em;\n",
              "                color: black;\n",
              "            }\n",
              "\n",
              "            .upgini-df tbody tr:nth-child(odd) {\n",
              "                background-color: #ffffff;\n",
              "            }\n",
              "\n",
              "            .upgini-df tbody tr:nth-child(even) {\n",
              "                background-color: #f2f2f2;\n",
              "            }\n",
              "\n",
              "            .upgini-text {\n",
              "                text-align: left;\n",
              "            }\n",
              "\n",
              "            .upgini-number {\n",
              "                text-align: center;\n",
              "            }\n",
              "        </style>\n",
              "        <h2>Accuracy after enrichment</h2>\n",
              "        <div style=\"display:flex; flex-direction:column; align-items:flex-end; width: fit-content;\">\n",
              "            \n",
              "            <div style=\"text-align: right\">\n",
              "                <button onclick=navigator.clipboard.writeText(decodeURI('Dataset%20type%09Rows%09Mean%20target%09Baseline%20MAPE%09Enriched%20MAPE%09Uplift,%20abs%09Uplift,%20%25%0ATrain%099418%0953.3352%090.324%20%C2%B1%200.109%090.307%20%C2%B1%200.099%090.018%095.5%25%0AEval%201%093764%0958.5994%090.278%20%C2%B1%200.009%090.280%20%C2%B1%200.035%09-0.002%09-0.7%25%0A'))>📂 Copy</button>\n",
              "                <a href='mailto:<Share with...>?subject=Relevant external data sources from Upgini.com&body=Dataset%20type%09Rows%09Mean%20target%09Baseline%20MAPE%09Enriched%20MAPE%09Uplift,%20abs%09Uplift,%20%25%0ATrain%099418%0953.3352%090.324%20%C2%B1%200.109%090.307%20%C2%B1%200.099%090.018%095.5%25%0AEval%201%093764%0958.5994%090.278%20%C2%B1%200.009%090.280%20%C2%B1%200.035%09-0.002%09-0.7%25%0A'>\n",
              "                    <button>📨 Share</button>\n",
              "                </a>\n",
              "            </div>\n",
              "            <table class='upgini-df'><thead><th>Dataset type</th><th>Rows</th><th>Mean target</th><th>Baseline MAPE</th><th>Enriched MAPE</th><th>Uplift, abs</th><th>Uplift, %</th></thead><tbody><tr><td class='upgini-text'>Train</td><td class='upgini-number'>9418</td><td class='upgini-number'>53.3352</td><td class='upgini-text'>0.324 ± 0.109</td><td class='upgini-text'>0.307 ± 0.099</td><td class='upgini-number'>0.0180</td><td class='upgini-text'>5.5%</td></tr><tr><td class='upgini-text'>Eval 1</td><td class='upgini-number'>3764</td><td class='upgini-number'>58.5994</td><td class='upgini-text'>0.278 ± 0.009</td><td class='upgini-text'>0.280 ± 0.035</td><td class='upgini-number'>-0.0020</td><td class='upgini-text'>-0.7%</td></tr></tbody></table>\n",
              "        </div>\n",
              "        "
            ]
          },
          "metadata": {}
        },
        {
          "output_type": "display_data",
          "data": {
            "text/plain": [
              "<IPython.core.display.HTML object>"
            ],
            "text/html": [
              "<a download=\"upgini-report-c9ae1b6e-dd72-4a7a-ba6b-6adad9fc4488.pdf\" href=\"data:application/pdf;base64,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\" target=\"_blank\">\n",
              "        <button>📊 Download PDF report</button></a>"
            ]
          },
          "metadata": {}
        }
      ]
    },
    {
      "cell_type": "code",
      "source": [
        "from catboost import CatBoostRegressor\n",
        "from catboost.utils import eval_metric\n",
        "\n",
        "model = CatBoostRegressor(verbose=False, allow_writing_files=False, random_state=0)\n",
        "\n",
        "enricher.calculate_metrics(\n",
        "    train_features, train_target,\n",
        "    eval_set = [(test_features, test_target)],\n",
        "    estimator = model,\n",
        "    scoring = \"mean_absolute_percentage_error\"\n",
        ")"
      ],
      "metadata": {
        "colab": {
          "base_uri": "https://localhost:8080/",
          "height": 166
        },
        "id": "fDwpYc2MlliT",
        "outputId": "e3db43aa-2b60-4988-d627-52813c4c0bf8"
      },
      "execution_count": 10,
      "outputs": [
        {
          "output_type": "stream",
          "name": "stdout",
          "text": [
            "Calculating accuracy uplift after enrichment...\n",
            "-\ry distributions from the training sample and eval_set differ according to the Kolmogorov-Smirnov test,\n",
            "which makes metrics between the train and eval_set incomparable.\n"
          ]
        },
        {
          "output_type": "execute_result",
          "data": {
            "text/plain": [
              "  Dataset type  Rows  Mean target  Baseline MAPE  Enriched MAPE  Uplift, abs  \\\n",
              "0        Train  9418      53.3352  0.288 ± 0.096  0.225 ± 0.085        0.063   \n",
              "1       Eval 1  3764      58.5994  0.247 ± 0.008  0.204 ± 0.034        0.043   \n",
              "\n",
              "  Uplift, %  \n",
              "0     21.8%  \n",
              "1     17.3%  "
            ],
            "text/html": [
              "\n",
              "  <div id=\"df-72cd5771-d1b9-4d45-adba-38eebe067f13\" class=\"colab-df-container\">\n",
              "    <div>\n",
              "<style scoped>\n",
              "    .dataframe tbody tr th:only-of-type {\n",
              "        vertical-align: middle;\n",
              "    }\n",
              "\n",
              "    .dataframe tbody tr th {\n",
              "        vertical-align: top;\n",
              "    }\n",
              "\n",
              "    .dataframe thead th {\n",
              "        text-align: right;\n",
              "    }\n",
              "</style>\n",
              "<table border=\"1\" class=\"dataframe\">\n",
              "  <thead>\n",
              "    <tr style=\"text-align: right;\">\n",
              "      <th></th>\n",
              "      <th>Dataset type</th>\n",
              "      <th>Rows</th>\n",
              "      <th>Mean target</th>\n",
              "      <th>Baseline MAPE</th>\n",
              "      <th>Enriched MAPE</th>\n",
              "      <th>Uplift, abs</th>\n",
              "      <th>Uplift, %</th>\n",
              "    </tr>\n",
              "  </thead>\n",
              "  <tbody>\n",
              "    <tr>\n",
              "      <th>0</th>\n",
              "      <td>Train</td>\n",
              "      <td>9418</td>\n",
              "      <td>53.3352</td>\n",
              "      <td>0.288 ± 0.096</td>\n",
              "      <td>0.225 ± 0.085</td>\n",
              "      <td>0.063</td>\n",
              "      <td>21.8%</td>\n",
              "    </tr>\n",
              "    <tr>\n",
              "      <th>1</th>\n",
              "      <td>Eval 1</td>\n",
              "      <td>3764</td>\n",
              "      <td>58.5994</td>\n",
              "      <td>0.247 ± 0.008</td>\n",
              "      <td>0.204 ± 0.034</td>\n",
              "      <td>0.043</td>\n",
              "      <td>17.3%</td>\n",
              "    </tr>\n",
              "  </tbody>\n",
              "</table>\n",
              "</div>\n",
              "    <div class=\"colab-df-buttons\">\n",
              "\n",
              "  <div class=\"colab-df-container\">\n",
              "    <button class=\"colab-df-convert\" onclick=\"convertToInteractive('df-72cd5771-d1b9-4d45-adba-38eebe067f13')\"\n",
              "            title=\"Convert this dataframe to an interactive table.\"\n",
              "            style=\"display:none;\">\n",
              "\n",
              "  <svg xmlns=\"http://www.w3.org/2000/svg\" height=\"24px\" viewBox=\"0 -960 960 960\">\n",
              "    <path d=\"M120-120v-720h720v720H120Zm60-500h600v-160H180v160Zm220 220h160v-160H400v160Zm0 220h160v-160H400v160ZM180-400h160v-160H180v160Zm440 0h160v-160H620v160ZM180-180h160v-160H180v160Zm440 0h160v-160H620v160Z\"/>\n",
              "  </svg>\n",
              "    </button>\n",
              "\n",
              "  <style>\n",
              "    .colab-df-container {\n",
              "      display:flex;\n",
              "      gap: 12px;\n",
              "    }\n",
              "\n",
              "    .colab-df-convert {\n",
              "      background-color: #E8F0FE;\n",
              "      border: none;\n",
              "      border-radius: 50%;\n",
              "      cursor: pointer;\n",
              "      display: none;\n",
              "      fill: #1967D2;\n",
              "      height: 32px;\n",
              "      padding: 0 0 0 0;\n",
              "      width: 32px;\n",
              "    }\n",
              "\n",
              "    .colab-df-convert:hover {\n",
              "      background-color: #E2EBFA;\n",
              "      box-shadow: 0px 1px 2px rgba(60, 64, 67, 0.3), 0px 1px 3px 1px rgba(60, 64, 67, 0.15);\n",
              "      fill: #174EA6;\n",
              "    }\n",
              "\n",
              "    .colab-df-buttons div {\n",
              "      margin-bottom: 4px;\n",
              "    }\n",
              "\n",
              "    [theme=dark] .colab-df-convert {\n",
              "      background-color: #3B4455;\n",
              "      fill: #D2E3FC;\n",
              "    }\n",
              "\n",
              "    [theme=dark] .colab-df-convert:hover {\n",
              "      background-color: #434B5C;\n",
              "      box-shadow: 0px 1px 3px 1px rgba(0, 0, 0, 0.15);\n",
              "      filter: drop-shadow(0px 1px 2px rgba(0, 0, 0, 0.3));\n",
              "      fill: #FFFFFF;\n",
              "    }\n",
              "  </style>\n",
              "\n",
              "    <script>\n",
              "      const buttonEl =\n",
              "        document.querySelector('#df-72cd5771-d1b9-4d45-adba-38eebe067f13 button.colab-df-convert');\n",
              "      buttonEl.style.display =\n",
              "        google.colab.kernel.accessAllowed ? 'block' : 'none';\n",
              "\n",
              "      async function convertToInteractive(key) {\n",
              "        const element = document.querySelector('#df-72cd5771-d1b9-4d45-adba-38eebe067f13');\n",
              "        const dataTable =\n",
              "          await google.colab.kernel.invokeFunction('convertToInteractive',\n",
              "                                                    [key], {});\n",
              "        if (!dataTable) return;\n",
              "\n",
              "        const docLinkHtml = 'Like what you see? Visit the ' +\n",
              "          '<a target=\"_blank\" href=https://colab.research.google.com/notebooks/data_table.ipynb>data table notebook</a>'\n",
              "          + ' to learn more about interactive tables.';\n",
              "        element.innerHTML = '';\n",
              "        dataTable['output_type'] = 'display_data';\n",
              "        await google.colab.output.renderOutput(dataTable, element);\n",
              "        const docLink = document.createElement('div');\n",
              "        docLink.innerHTML = docLinkHtml;\n",
              "        element.appendChild(docLink);\n",
              "      }\n",
              "    </script>\n",
              "  </div>\n",
              "\n",
              "\n",
              "    <div id=\"df-7448be50-846b-4b09-a8ea-63b74a962b4c\">\n",
              "      <button class=\"colab-df-quickchart\" onclick=\"quickchart('df-7448be50-846b-4b09-a8ea-63b74a962b4c')\"\n",
              "                title=\"Suggest charts\"\n",
              "                style=\"display:none;\">\n",
              "\n",
              "<svg xmlns=\"http://www.w3.org/2000/svg\" height=\"24px\"viewBox=\"0 0 24 24\"\n",
              "     width=\"24px\">\n",
              "    <g>\n",
              "        <path d=\"M19 3H5c-1.1 0-2 .9-2 2v14c0 1.1.9 2 2 2h14c1.1 0 2-.9 2-2V5c0-1.1-.9-2-2-2zM9 17H7v-7h2v7zm4 0h-2V7h2v10zm4 0h-2v-4h2v4z\"/>\n",
              "    </g>\n",
              "</svg>\n",
              "      </button>\n",
              "\n",
              "<style>\n",
              "  .colab-df-quickchart {\n",
              "      --bg-color: #E8F0FE;\n",
              "      --fill-color: #1967D2;\n",
              "      --hover-bg-color: #E2EBFA;\n",
              "      --hover-fill-color: #174EA6;\n",
              "      --disabled-fill-color: #AAA;\n",
              "      --disabled-bg-color: #DDD;\n",
              "  }\n",
              "\n",
              "  [theme=dark] .colab-df-quickchart {\n",
              "      --bg-color: #3B4455;\n",
              "      --fill-color: #D2E3FC;\n",
              "      --hover-bg-color: #434B5C;\n",
              "      --hover-fill-color: #FFFFFF;\n",
              "      --disabled-bg-color: #3B4455;\n",
              "      --disabled-fill-color: #666;\n",
              "  }\n",
              "\n",
              "  .colab-df-quickchart {\n",
              "    background-color: var(--bg-color);\n",
              "    border: none;\n",
              "    border-radius: 50%;\n",
              "    cursor: pointer;\n",
              "    display: none;\n",
              "    fill: var(--fill-color);\n",
              "    height: 32px;\n",
              "    padding: 0;\n",
              "    width: 32px;\n",
              "  }\n",
              "\n",
              "  .colab-df-quickchart:hover {\n",
              "    background-color: var(--hover-bg-color);\n",
              "    box-shadow: 0 1px 2px rgba(60, 64, 67, 0.3), 0 1px 3px 1px rgba(60, 64, 67, 0.15);\n",
              "    fill: var(--button-hover-fill-color);\n",
              "  }\n",
              "\n",
              "  .colab-df-quickchart-complete:disabled,\n",
              "  .colab-df-quickchart-complete:disabled:hover {\n",
              "    background-color: var(--disabled-bg-color);\n",
              "    fill: var(--disabled-fill-color);\n",
              "    box-shadow: none;\n",
              "  }\n",
              "\n",
              "  .colab-df-spinner {\n",
              "    border: 2px solid var(--fill-color);\n",
              "    border-color: transparent;\n",
              "    border-bottom-color: var(--fill-color);\n",
              "    animation:\n",
              "      spin 1s steps(1) infinite;\n",
              "  }\n",
              "\n",
              "  @keyframes spin {\n",
              "    0% {\n",
              "      border-color: transparent;\n",
              "      border-bottom-color: var(--fill-color);\n",
              "      border-left-color: var(--fill-color);\n",
              "    }\n",
              "    20% {\n",
              "      border-color: transparent;\n",
              "      border-left-color: var(--fill-color);\n",
              "      border-top-color: var(--fill-color);\n",
              "    }\n",
              "    30% {\n",
              "      border-color: transparent;\n",
              "      border-left-color: var(--fill-color);\n",
              "      border-top-color: var(--fill-color);\n",
              "      border-right-color: var(--fill-color);\n",
              "    }\n",
              "    40% {\n",
              "      border-color: transparent;\n",
              "      border-right-color: var(--fill-color);\n",
              "      border-top-color: var(--fill-color);\n",
              "    }\n",
              "    60% {\n",
              "      border-color: transparent;\n",
              "      border-right-color: var(--fill-color);\n",
              "    }\n",
              "    80% {\n",
              "      border-color: transparent;\n",
              "      border-right-color: var(--fill-color);\n",
              "      border-bottom-color: var(--fill-color);\n",
              "    }\n",
              "    90% {\n",
              "      border-color: transparent;\n",
              "      border-bottom-color: var(--fill-color);\n",
              "    }\n",
              "  }\n",
              "</style>\n",
              "\n",
              "      <script>\n",
              "        async function quickchart(key) {\n",
              "          const quickchartButtonEl =\n",
              "            document.querySelector('#' + key + ' button');\n",
              "          quickchartButtonEl.disabled = true;  // To prevent multiple clicks.\n",
              "          quickchartButtonEl.classList.add('colab-df-spinner');\n",
              "          try {\n",
              "            const charts = await google.colab.kernel.invokeFunction(\n",
              "                'suggestCharts', [key], {});\n",
              "          } catch (error) {\n",
              "            console.error('Error during call to suggestCharts:', error);\n",
              "          }\n",
              "          quickchartButtonEl.classList.remove('colab-df-spinner');\n",
              "          quickchartButtonEl.classList.add('colab-df-quickchart-complete');\n",
              "        }\n",
              "        (() => {\n",
              "          let quickchartButtonEl =\n",
              "            document.querySelector('#df-7448be50-846b-4b09-a8ea-63b74a962b4c button');\n",
              "          quickchartButtonEl.style.display =\n",
              "            google.colab.kernel.accessAllowed ? 'block' : 'none';\n",
              "        })();\n",
              "      </script>\n",
              "    </div>\n",
              "\n",
              "    </div>\n",
              "  </div>\n"
            ],
            "application/vnd.google.colaboratory.intrinsic+json": {
              "type": "dataframe",
              "summary": "{\n  \"name\": \")\",\n  \"rows\": 2,\n  \"fields\": [\n    {\n      \"column\": \"Dataset type\",\n      \"properties\": {\n        \"dtype\": \"string\",\n        \"num_unique_values\": 2,\n        \"samples\": [\n          \"Eval 1\",\n          \"Train\"\n        ],\n        \"semantic_type\": \"\",\n        \"description\": \"\"\n      }\n    },\n    {\n      \"column\": \"Rows\",\n      \"properties\": {\n        \"dtype\": \"number\",\n        \"std\": 3997,\n        \"min\": 3764,\n        \"max\": 9418,\n        \"num_unique_values\": 2,\n        \"samples\": [\n          3764,\n          9418\n        ],\n        \"semantic_type\": \"\",\n        \"description\": \"\"\n      }\n    },\n    {\n      \"column\": \"Mean target\",\n      \"properties\": {\n        \"dtype\": \"number\",\n        \"std\": 3.7223515175222253,\n        \"min\": 53.3352,\n        \"max\": 58.5994,\n        \"num_unique_values\": 2,\n        \"samples\": [\n          58.5994,\n          53.3352\n        ],\n        \"semantic_type\": \"\",\n        \"description\": \"\"\n      }\n    },\n    {\n      \"column\": \"Baseline MAPE\",\n      \"properties\": {\n        \"dtype\": \"string\",\n        \"num_unique_values\": 2,\n        \"samples\": [\n          \"0.247 \\u00b1 0.008\",\n          \"0.288 \\u00b1 0.096\"\n        ],\n        \"semantic_type\": \"\",\n        \"description\": \"\"\n      }\n    },\n    {\n      \"column\": \"Enriched MAPE\",\n      \"properties\": {\n        \"dtype\": \"string\",\n        \"num_unique_values\": 2,\n        \"samples\": [\n          \"0.204 \\u00b1 0.034\",\n          \"0.225 \\u00b1 0.085\"\n        ],\n        \"semantic_type\": \"\",\n        \"description\": \"\"\n      }\n    },\n    {\n      \"column\": \"Uplift, abs\",\n      \"properties\": {\n        \"dtype\": \"number\",\n        \"std\": 0.014142135623730954,\n        \"min\": 0.043,\n        \"max\": 0.063,\n        \"num_unique_values\": 2,\n        \"samples\": [\n          0.043,\n          0.063\n        ],\n        \"semantic_type\": \"\",\n        \"description\": \"\"\n      }\n    },\n    {\n      \"column\": \"Uplift, %\",\n      \"properties\": {\n        \"dtype\": \"string\",\n        \"num_unique_values\": 2,\n        \"samples\": [\n          \"17.3%\",\n          \"21.8%\"\n        ],\n        \"semantic_type\": \"\",\n        \"description\": \"\"\n      }\n    }\n  ]\n}"
            }
          },
          "metadata": {},
          "execution_count": 10
        }
      ]
    },
    {
      "cell_type": "code",
      "source": [
        "enriched_train_features = enricher.transform(train_features, keep_input=True)\n",
        "enriched_test_features = enricher.transform(test_features, keep_input=True)\n",
        "enriched_train_features.head()"
      ],
      "metadata": {
        "colab": {
          "base_uri": "https://localhost:8080/",
          "height": 314,
          "referenced_widgets": [
            "f5724cd994074e8f8966f6654be0e310",
            "03274d2e3dd9467697c9226962e724da",
            "1a9eba1bb55845588939fdae7e1d8a70",
            "c83b4dec448f488e90b3b57996253ab0",
            "52fd20c1ecaa4ae5831081bc9bee9ba7",
            "42e3cb440b0940709cab91b8d40e3fdf"
          ]
        },
        "id": "8dI72wmtm3IS",
        "outputId": "c7ff6e97-b80a-42f3-abc6-be57b7a0f925"
      },
      "execution_count": 11,
      "outputs": [
        {
          "output_type": "display_data",
          "data": {
            "text/plain": [
              "[============================================================] 100% Finished"
            ],
            "text/html": [
              "<progress style='width:60ex' max='100' value='100'></progress>  100% Finished</br>"
            ]
          },
          "metadata": {}
        },
        {
          "output_type": "stream",
          "name": "stdout",
          "text": [
            "You are trying to launch enrichment for 15213 rows, which will exceed the rest limit 1000.\n"
          ]
        },
        {
          "output_type": "display_data",
          "data": {
            "text/plain": [
              "Button(button_style='danger', description='Request a quote', style=ButtonStyle())"
            ],
            "application/vnd.jupyter.widget-view+json": {
              "version_major": 2,
              "version_minor": 0,
              "model_id": "f5724cd994074e8f8966f6654be0e310"
            }
          },
          "metadata": {}
        },
        {
          "output_type": "display_data",
          "data": {
            "text/plain": [
              "[============================================================] 100% Finished"
            ],
            "text/html": [
              "<progress style='width:60ex' max='100' value='100'></progress>  100% Finished</br>"
            ]
          },
          "metadata": {}
        },
        {
          "output_type": "stream",
          "name": "stdout",
          "text": [
            "You are trying to launch enrichment for 3787 rows, which will exceed the rest limit 1000.\n"
          ]
        },
        {
          "output_type": "display_data",
          "data": {
            "text/plain": [
              "Button(button_style='danger', description='Request a quote', style=ButtonStyle())"
            ],
            "application/vnd.jupyter.widget-view+json": {
              "version_major": 2,
              "version_minor": 0,
              "model_id": "c83b4dec448f488e90b3b57996253ab0"
            }
          },
          "metadata": {}
        },
        {
          "output_type": "error",
          "ename": "AttributeError",
          "evalue": "'NoneType' object has no attribute 'head'",
          "traceback": [
            "\u001b[0;31m---------------------------------------------------------------------------\u001b[0m",
            "\u001b[0;31mAttributeError\u001b[0m                            Traceback (most recent call last)",
            "\u001b[0;32m<ipython-input-11-3038184966>\u001b[0m in \u001b[0;36m<cell line: 0>\u001b[0;34m()\u001b[0m\n\u001b[1;32m      1\u001b[0m \u001b[0menriched_train_features\u001b[0m \u001b[0;34m=\u001b[0m \u001b[0menricher\u001b[0m\u001b[0;34m.\u001b[0m\u001b[0mtransform\u001b[0m\u001b[0;34m(\u001b[0m\u001b[0mtrain_features\u001b[0m\u001b[0;34m,\u001b[0m \u001b[0mkeep_input\u001b[0m\u001b[0;34m=\u001b[0m\u001b[0;32mTrue\u001b[0m\u001b[0;34m)\u001b[0m\u001b[0;34m\u001b[0m\u001b[0;34m\u001b[0m\u001b[0m\n\u001b[1;32m      2\u001b[0m \u001b[0menriched_test_features\u001b[0m \u001b[0;34m=\u001b[0m \u001b[0menricher\u001b[0m\u001b[0;34m.\u001b[0m\u001b[0mtransform\u001b[0m\u001b[0;34m(\u001b[0m\u001b[0mtest_features\u001b[0m\u001b[0;34m,\u001b[0m \u001b[0mkeep_input\u001b[0m\u001b[0;34m=\u001b[0m\u001b[0;32mTrue\u001b[0m\u001b[0;34m)\u001b[0m\u001b[0;34m\u001b[0m\u001b[0;34m\u001b[0m\u001b[0m\n\u001b[0;32m----> 3\u001b[0;31m \u001b[0menriched_train_features\u001b[0m\u001b[0;34m.\u001b[0m\u001b[0mhead\u001b[0m\u001b[0;34m(\u001b[0m\u001b[0;34m)\u001b[0m\u001b[0;34m\u001b[0m\u001b[0;34m\u001b[0m\u001b[0m\n\u001b[0m",
            "\u001b[0;31mAttributeError\u001b[0m: 'NoneType' object has no attribute 'head'"
          ]
        }
      ]
    }
  ]
}